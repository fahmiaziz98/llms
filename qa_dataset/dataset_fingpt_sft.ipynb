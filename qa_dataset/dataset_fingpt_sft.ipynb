{
  "cells": [
    {
      "cell_type": "markdown",
      "metadata": {
        "id": "MK4uRAwe74M6"
      },
      "source": [
        "Please use GPU from Google Collab or Kaggle\n",
        "\n",
        "refrence:\n",
        "- https://medium.com/@sauravjoshi23/optimizing-retrieval-augmentation-with-dynamic-top-k-tuning-for-efficient-question-answering-11961503d4ae"
      ]
    },
    {
      "cell_type": "code",
      "execution_count": 1,
      "metadata": {
        "colab": {
          "base_uri": "https://localhost:8080/"
        },
        "id": "igyexweVYBf8",
        "outputId": "417021ac-9449-41f6-c630-473ffad1dac0",
        "trusted": true
      },
      "outputs": [
        {
          "name": "stdout",
          "output_type": "stream",
          "text": [
            "\u001b[2K     \u001b[90m━━━━━━━━━━━━━━━━━━━━━━━━━━━━━━━━━━━━━━━━\u001b[0m \u001b[32m38.0/38.0 MB\u001b[0m \u001b[31m29.1 MB/s\u001b[0m eta \u001b[36m0:00:00\u001b[0m\n",
            "\u001b[2K     \u001b[90m━━━━━━━━━━━━━━━━━━━━━━━━━━━━━━━━━━━━━━━━\u001b[0m \u001b[32m132.8/132.8 kB\u001b[0m \u001b[31m1.4 MB/s\u001b[0m eta \u001b[36m0:00:00\u001b[0m\n",
            "\u001b[2K     \u001b[90m━━━━━━━━━━━━━━━━━━━━━━━━━━━━━━━━━━━━━━━━\u001b[0m \u001b[32m85.5/85.5 MB\u001b[0m \u001b[31m4.7 MB/s\u001b[0m eta \u001b[36m0:00:00\u001b[0m\n",
            "\u001b[2K     \u001b[90m━━━━━━━━━━━━━━━━━━━━━━━━━━━━━━━━━━━━━━━━\u001b[0m \u001b[32m536.6/536.6 kB\u001b[0m \u001b[31m2.7 MB/s\u001b[0m eta \u001b[36m0:00:00\u001b[0m\n",
            "\u001b[2K     \u001b[90m━━━━━━━━━━━━━━━━━━━━━━━━━━━━━━━━━━━━━━━━\u001b[0m \u001b[32m116.3/116.3 kB\u001b[0m \u001b[31m5.7 MB/s\u001b[0m eta \u001b[36m0:00:00\u001b[0m\n",
            "\u001b[2K     \u001b[90m━━━━━━━━━━━━━━━━━━━━━━━━━━━━━━━━━━━━━━━━\u001b[0m \u001b[32m134.8/134.8 kB\u001b[0m \u001b[31m12.9 MB/s\u001b[0m eta \u001b[36m0:00:00\u001b[0m\n",
            "\u001b[?25h"
          ]
        }
      ],
      "source": [
        "!pip install -q pyarrow==14.0.0\n",
        "!pip install transformers sentence_transformers faiss-gpu -q\n",
        "!pip install datasets==2.17.0 -q\n"
      ]
    },
    {
      "cell_type": "code",
      "execution_count": null,
      "metadata": {
        "colab": {
          "base_uri": "https://localhost:8080/",
          "referenced_widgets": [
            "7afc77407d5d457a8539f3faa72cb8af",
            "836b8cfa79174ee681519586d56c5dad",
            "f16b79e0193d44049e2b31d2f5297608"
          ]
        },
        "execution": {
          "iopub.execute_input": "2024-02-16T11:53:41.951306Z",
          "iopub.status.busy": "2024-02-16T11:53:41.950903Z",
          "iopub.status.idle": "2024-02-16T11:53:46.733287Z",
          "shell.execute_reply": "2024-02-16T11:53:46.732454Z",
          "shell.execute_reply.started": "2024-02-16T11:53:41.951275Z"
        },
        "id": "I4HZ7fOrYsvh",
        "outputId": "9494992c-297f-4439-9929-7b7951c309d7",
        "trusted": true
      },
      "outputs": [
        {
          "data": {
            "application/vnd.jupyter.widget-view+json": {
              "model_id": "7afc77407d5d457a8539f3faa72cb8af",
              "version_major": 2,
              "version_minor": 0
            },
            "text/plain": [
              "Downloading readme:   0%|          | 0.00/522 [00:00<?, ?B/s]"
            ]
          },
          "metadata": {},
          "output_type": "display_data"
        },
        {
          "data": {
            "application/vnd.jupyter.widget-view+json": {
              "model_id": "836b8cfa79174ee681519586d56c5dad",
              "version_major": 2,
              "version_minor": 0
            },
            "text/plain": [
              "Downloading data:   0%|          | 0.00/10.8M [00:00<?, ?B/s]"
            ]
          },
          "metadata": {},
          "output_type": "display_data"
        },
        {
          "data": {
            "application/vnd.jupyter.widget-view+json": {
              "model_id": "f16b79e0193d44049e2b31d2f5297608",
              "version_major": 2,
              "version_minor": 0
            },
            "text/plain": [
              "Generating train split:   0%|          | 0/17110 [00:00<?, ? examples/s]"
            ]
          },
          "metadata": {},
          "output_type": "display_data"
        },
        {
          "data": {
            "text/plain": [
              "Dataset({\n",
              "    features: ['input', 'output', 'instruction'],\n",
              "    num_rows: 17110\n",
              "})"
            ]
          },
          "execution_count": 1,
          "metadata": {},
          "output_type": "execute_result"
        }
      ],
      "source": [
        "from datasets import load_dataset\n",
        "\n",
        "dataset = load_dataset(path=\"FinGPT/fingpt-fiqa_qa\", split=\"train\")\n",
        "dataset"
      ]
    },
    {
      "cell_type": "code",
      "execution_count": null,
      "metadata": {
        "colab": {
          "base_uri": "https://localhost:8080/",
          "height": 597
        },
        "execution": {
          "iopub.execute_input": "2024-02-16T11:53:48.740640Z",
          "iopub.status.busy": "2024-02-16T11:53:48.739517Z",
          "iopub.status.idle": "2024-02-16T11:53:48.817305Z",
          "shell.execute_reply": "2024-02-16T11:53:48.816300Z",
          "shell.execute_reply.started": "2024-02-16T11:53:48.740604Z"
        },
        "id": "dueIEzduYssq",
        "outputId": "c2933168-4ce8-40f8-842b-5c637418efd2",
        "trusted": true
      },
      "outputs": [
        {
          "data": {
            "text/html": [
              "<div>\n",
              "<style scoped>\n",
              "    .dataframe tbody tr th:only-of-type {\n",
              "        vertical-align: middle;\n",
              "    }\n",
              "\n",
              "    .dataframe tbody tr th {\n",
              "        vertical-align: top;\n",
              "    }\n",
              "\n",
              "    .dataframe thead th {\n",
              "        text-align: right;\n",
              "    }\n",
              "</style>\n",
              "<table border=\"1\" class=\"dataframe\">\n",
              "  <thead>\n",
              "    <tr style=\"text-align: right;\">\n",
              "      <th></th>\n",
              "      <th>input</th>\n",
              "      <th>output</th>\n",
              "      <th>instruction</th>\n",
              "    </tr>\n",
              "  </thead>\n",
              "  <tbody>\n",
              "    <tr>\n",
              "      <th>0</th>\n",
              "      <td>What is considered a business expense on a bus...</td>\n",
              "      <td>The IRS Guidance pertaining to the subject.  I...</td>\n",
              "      <td>Utilize your financial knowledge, give your an...</td>\n",
              "    </tr>\n",
              "    <tr>\n",
              "      <th>1</th>\n",
              "      <td>Claiming business expenses for a business with...</td>\n",
              "      <td>Yes you can claim your business deductions if ...</td>\n",
              "      <td>Offer your insights or judgment on the input f...</td>\n",
              "    </tr>\n",
              "    <tr>\n",
              "      <th>2</th>\n",
              "      <td>Transferring money from One business checking ...</td>\n",
              "      <td>You should have separate files for each of the...</td>\n",
              "      <td>Based on your financial expertise, provide you...</td>\n",
              "    </tr>\n",
              "    <tr>\n",
              "      <th>3</th>\n",
              "      <td>Having a separate bank account for business/in...</td>\n",
              "      <td>Having a separate checking account for the bus...</td>\n",
              "      <td>Share your insights or perspective on the fina...</td>\n",
              "    </tr>\n",
              "    <tr>\n",
              "      <th>4</th>\n",
              "      <td>Having a separate bank account for business/in...</td>\n",
              "      <td>You don't specify which country you are in, so...</td>\n",
              "      <td>Offer your thoughts or opinion on the input fi...</td>\n",
              "    </tr>\n",
              "    <tr>\n",
              "      <th>...</th>\n",
              "      <td>...</td>\n",
              "      <td>...</td>\n",
              "      <td>...</td>\n",
              "    </tr>\n",
              "    <tr>\n",
              "      <th>17105</th>\n",
              "      <td>Pensions, annuities, and “retirement”</td>\n",
              "      <td>An annuity is a product. In simple terms, you ...</td>\n",
              "      <td>Utilize your financial knowledge, give your an...</td>\n",
              "    </tr>\n",
              "    <tr>\n",
              "      <th>17106</th>\n",
              "      <td>What does it mean to a life insurance policy h...</td>\n",
              "      <td>A stock insurance company is structured like a...</td>\n",
              "      <td>Offer your insights or judgment on the input f...</td>\n",
              "    </tr>\n",
              "    <tr>\n",
              "      <th>17107</th>\n",
              "      <td>Can capital loss in traditional IRA and Roth I...</td>\n",
              "      <td>Edited in response to JoeTaxpayer's comment an...</td>\n",
              "      <td>Based on your financial expertise, provide you...</td>\n",
              "    </tr>\n",
              "    <tr>\n",
              "      <th>17108</th>\n",
              "      <td>Can capital loss in traditional IRA and Roth I...</td>\n",
              "      <td>No, you cannot. If you withdraw everything fro...</td>\n",
              "      <td>Share your insights or perspective on the fina...</td>\n",
              "    </tr>\n",
              "    <tr>\n",
              "      <th>17109</th>\n",
              "      <td>Selling a stock for gain to offset other stock...</td>\n",
              "      <td>Long term gains are taxed at 15% maximum.  Los...</td>\n",
              "      <td>Offer your thoughts or opinion on the input fi...</td>\n",
              "    </tr>\n",
              "  </tbody>\n",
              "</table>\n",
              "<p>17110 rows × 3 columns</p>\n",
              "</div>"
            ],
            "text/plain": [
              "                                                   input  \\\n",
              "0      What is considered a business expense on a bus...   \n",
              "1      Claiming business expenses for a business with...   \n",
              "2      Transferring money from One business checking ...   \n",
              "3      Having a separate bank account for business/in...   \n",
              "4      Having a separate bank account for business/in...   \n",
              "...                                                  ...   \n",
              "17105              Pensions, annuities, and “retirement”   \n",
              "17106  What does it mean to a life insurance policy h...   \n",
              "17107  Can capital loss in traditional IRA and Roth I...   \n",
              "17108  Can capital loss in traditional IRA and Roth I...   \n",
              "17109  Selling a stock for gain to offset other stock...   \n",
              "\n",
              "                                                  output  \\\n",
              "0      The IRS Guidance pertaining to the subject.  I...   \n",
              "1      Yes you can claim your business deductions if ...   \n",
              "2      You should have separate files for each of the...   \n",
              "3      Having a separate checking account for the bus...   \n",
              "4      You don't specify which country you are in, so...   \n",
              "...                                                  ...   \n",
              "17105  An annuity is a product. In simple terms, you ...   \n",
              "17106  A stock insurance company is structured like a...   \n",
              "17107  Edited in response to JoeTaxpayer's comment an...   \n",
              "17108  No, you cannot. If you withdraw everything fro...   \n",
              "17109  Long term gains are taxed at 15% maximum.  Los...   \n",
              "\n",
              "                                             instruction  \n",
              "0      Utilize your financial knowledge, give your an...  \n",
              "1      Offer your insights or judgment on the input f...  \n",
              "2      Based on your financial expertise, provide you...  \n",
              "3      Share your insights or perspective on the fina...  \n",
              "4      Offer your thoughts or opinion on the input fi...  \n",
              "...                                                  ...  \n",
              "17105  Utilize your financial knowledge, give your an...  \n",
              "17106  Offer your insights or judgment on the input f...  \n",
              "17107  Based on your financial expertise, provide you...  \n",
              "17108  Share your insights or perspective on the fina...  \n",
              "17109  Offer your thoughts or opinion on the input fi...  \n",
              "\n",
              "[17110 rows x 3 columns]"
            ]
          },
          "execution_count": 2,
          "metadata": {},
          "output_type": "execute_result"
        }
      ],
      "source": [
        "dataset.to_pandas()"
      ]
    },
    {
      "cell_type": "code",
      "execution_count": null,
      "metadata": {
        "execution": {
          "iopub.execute_input": "2024-02-16T11:53:53.251985Z",
          "iopub.status.busy": "2024-02-16T11:53:53.250819Z",
          "iopub.status.idle": "2024-02-16T11:54:02.238497Z",
          "shell.execute_reply": "2024-02-16T11:54:02.237447Z",
          "shell.execute_reply.started": "2024-02-16T11:53:53.251929Z"
        },
        "id": "dp5bg47jYsp4",
        "trusted": true
      },
      "outputs": [],
      "source": [
        "from transformers import AutoTokenizer\n",
        "import matplotlib.pyplot as plt\n",
        "import seaborn as sns\n",
        "from typing import List\n",
        "import numpy as np"
      ]
    },
    {
      "cell_type": "code",
      "execution_count": null,
      "metadata": {
        "colab": {
          "base_uri": "https://localhost:8080/",
          "height": 145,
          "referenced_widgets": [
            "aebaa9129ceb4749a2649c39fb13d505",
            "ff92a7e65d734b9f97764745a93b17d2",
            "1a47c228332a4bf4871db8710e434743",
            "878a3b3730524ff68b9db9e82e6cd239",
            "32bdbe87c60749a8912e592bdecb1e17",
            "6b8abb25e2004983af128448727d472b",
            "9157174f3b4a4e2a876610f8f1d4ef32",
            "f3ccfcb8a5cc4d59ac4a4e47638ef867",
            "b1f9b537268548589b56f861ad6aecc1",
            "58a4ea70766b459995e65d5a8c1070c1",
            "113146f2833b4f57ae39b1c1dcaa3808",
            "4b1fed1532f24c3fb3256d02eca7461b",
            "77e14490380e498a94035485e63652e9",
            "a110aeccef0a4bd795cd1e3e36255218",
            "67f54aae427541fba07b371a6d38dcc2",
            "d2be809190ae4f28a032775227da2bca",
            "56d2dca604fe456887674490aa913359",
            "b008e31bd2034d1cb048e9bbdbbfaed9",
            "94428e790c824011b75f461f6be4243a",
            "90981b50723a4c38b22f8ef3067b09b5",
            "af7280c55fac407abd1cbce812049a73",
            "1bedda67264146e7b86e2294f4688439",
            "295a32ee5a18462193fe12cd8bce81e6",
            "7f70df7d09f9400f82ca1d45860fdca4",
            "04be653864ed4a94afa09d6f95ed3330",
            "bcdea9d710f848daa1f76c99a37bbc0e",
            "51ab8f6daa5347e0ab0b0e903d2e8901",
            "fcfb1aab55e54222a42871baad723d1b",
            "34a314377d2f453d92a4fe6759db2eec",
            "90d64aef789e42558034f96c415e640e",
            "32d7ff1d73ee4bab950c960faa0e79e2",
            "8296568cfee8440cbe473220039adffc",
            "e3a242edbed3456c9e57bc8f3631ee63",
            "11fe15c3d2af48dc906a487a4802dad0",
            "5ebc1bc510d44626a6ca017f03a90c22",
            "8e50183df5554f7e8ef9ac8aa547db6f",
            "096600d9e60b4209893ec9083170f846",
            "52b99a6d064241d08cbab52012fe6faf",
            "578cb73cfeab4d809448f272cb09be68",
            "c7fe4ba489dc4f5780a4ff5d1cb71d60",
            "e4b2fced6265449fb913c3ee98c569c0",
            "89a203f5d6a649dfb222de24639090f3",
            "d2687eade0634e849242792169ab95ff",
            "fa3de74c2c444a1dadb6cb21ee4d52b5",
            "685ca2a6db4a4ebea4a08bcab9c1ed6d",
            "b545b7030bea4bc09a303971d51cb7db",
            "2d8555dd3b4e4ab2b08bc48e6d2f50c3",
            "480201c6a1aa4f5b94f5727c1556b5c0"
          ]
        },
        "execution": {
          "iopub.execute_input": "2024-02-16T11:54:02.240680Z",
          "iopub.status.busy": "2024-02-16T11:54:02.240205Z",
          "iopub.status.idle": "2024-02-16T11:54:02.943686Z",
          "shell.execute_reply": "2024-02-16T11:54:02.942638Z",
          "shell.execute_reply.started": "2024-02-16T11:54:02.240634Z"
        },
        "id": "MoHzKg4aYsmr",
        "outputId": "a18057df-3bba-42a1-fa4c-d133c6a04bff",
        "trusted": true
      },
      "outputs": [
        {
          "data": {
            "application/vnd.jupyter.widget-view+json": {
              "model_id": "685ca2a6db4a4ebea4a08bcab9c1ed6d",
              "version_major": 2,
              "version_minor": 0
            },
            "text/plain": [
              "tokenizer_config.json:   0%|          | 0.00/967 [00:00<?, ?B/s]"
            ]
          },
          "metadata": {},
          "output_type": "display_data"
        },
        {
          "data": {
            "application/vnd.jupyter.widget-view+json": {
              "model_id": "b545b7030bea4bc09a303971d51cb7db",
              "version_major": 2,
              "version_minor": 0
            },
            "text/plain": [
              "tokenizer.model:   0%|          | 0.00/493k [00:00<?, ?B/s]"
            ]
          },
          "metadata": {},
          "output_type": "display_data"
        },
        {
          "data": {
            "application/vnd.jupyter.widget-view+json": {
              "model_id": "2d8555dd3b4e4ab2b08bc48e6d2f50c3",
              "version_major": 2,
              "version_minor": 0
            },
            "text/plain": [
              "tokenizer.json:   0%|          | 0.00/1.80M [00:00<?, ?B/s]"
            ]
          },
          "metadata": {},
          "output_type": "display_data"
        },
        {
          "data": {
            "application/vnd.jupyter.widget-view+json": {
              "model_id": "480201c6a1aa4f5b94f5727c1556b5c0",
              "version_major": 2,
              "version_minor": 0
            },
            "text/plain": [
              "special_tokens_map.json:   0%|          | 0.00/72.0 [00:00<?, ?B/s]"
            ]
          },
          "metadata": {},
          "output_type": "display_data"
        }
      ],
      "source": [
        "tokenizer = AutoTokenizer.from_pretrained(\"mistralai/Mistral-7B-v0.1\")"
      ]
    },
    {
      "cell_type": "code",
      "execution_count": null,
      "metadata": {
        "execution": {
          "iopub.execute_input": "2024-02-16T11:54:02.944990Z",
          "iopub.status.busy": "2024-02-16T11:54:02.944661Z",
          "iopub.status.idle": "2024-02-16T11:54:26.286411Z",
          "shell.execute_reply": "2024-02-16T11:54:26.285371Z",
          "shell.execute_reply.started": "2024-02-16T11:54:02.944951Z"
        },
        "id": "I_FOOz9cYsjm",
        "trusted": true
      },
      "outputs": [],
      "source": [
        "question_token_counts = [len(tokenizer.tokenize(example[\"input\"])) for example in dataset]\n",
        "answer_token_counts = [len(tokenizer.tokenize(example[\"output\"])) for example in dataset]\n",
        "instruction_token_counts = [len(tokenizer.tokenize(example[\"instruction\"])) for example in dataset]\n",
        "combined_token_counts = [q + a + inst for q, a, inst in zip(question_token_counts, answer_token_counts, instruction_token_counts)]"
      ]
    },
    {
      "cell_type": "code",
      "execution_count": null,
      "metadata": {
        "execution": {
          "iopub.execute_input": "2024-02-16T11:54:26.288798Z",
          "iopub.status.busy": "2024-02-16T11:54:26.288431Z",
          "iopub.status.idle": "2024-02-16T11:54:26.296758Z",
          "shell.execute_reply": "2024-02-16T11:54:26.295654Z",
          "shell.execute_reply.started": "2024-02-16T11:54:26.288760Z"
        },
        "id": "VyDsqPI_Ysd2",
        "trusted": true
      },
      "outputs": [],
      "source": [
        "def plot_distribution(token_counts: List[int], title: str):\n",
        "    sns.set_style(\"whitegrid\")\n",
        "    plt.figure(figsize=(15, 6))\n",
        "    plt.hist(token_counts, bins=50, color='#3498db', edgecolor='black')\n",
        "    plt.title(title, fontsize=16)\n",
        "    plt.xlabel(\"Number of tokens\", fontsize=14)\n",
        "    plt.ylabel(\"Number of examples\", fontsize=14)\n",
        "    plt.xticks(fontsize=12)\n",
        "    plt.yticks(fontsize=12)\n",
        "    plt.tight_layout()\n",
        "    plt.show()\n",
        "\n",
        "    print(\"\\n\")\n",
        "    average_tokens = np.mean(token_counts)\n",
        "    print(f\"Average distribution tokens {np.round(average_tokens, 0)}\")\n"
      ]
    },
    {
      "cell_type": "code",
      "execution_count": null,
      "metadata": {
        "colab": {
          "base_uri": "https://localhost:8080/",
          "height": 399
        },
        "execution": {
          "iopub.execute_input": "2024-02-16T11:54:26.299031Z",
          "iopub.status.busy": "2024-02-16T11:54:26.298098Z",
          "iopub.status.idle": "2024-02-16T11:54:26.941316Z",
          "shell.execute_reply": "2024-02-16T11:54:26.940346Z",
          "shell.execute_reply.started": "2024-02-16T11:54:26.298956Z"
        },
        "id": "qbnO8jOxYsbe",
        "outputId": "a2343a3c-2c61-46fb-9780-6596041bbb7c",
        "trusted": true
      },
      "outputs": [
        {
          "data": {
            "image/png": "[encoded data removed]",
            "text/plain": [
              "<Figure size 1500x600 with 1 Axes>"
            ]
          },
          "metadata": {},
          "output_type": "display_data"
        },
        {
          "name": "stdout",
          "output_type": "stream",
          "text": [
            "\n",
            "\n",
            "Average distribution tokens 15.0\n"
          ]
        }
      ],
      "source": [
        "# Plot the distribution of token counts\n",
        "plot_distribution(question_token_counts, \"Distribution of token counts for question(input) only\")"
      ]
    },
    {
      "cell_type": "code",
      "execution_count": null,
      "metadata": {
        "colab": {
          "base_uri": "https://localhost:8080/",
          "height": 399
        },
        "execution": {
          "iopub.execute_input": "2024-02-16T11:54:26.942809Z",
          "iopub.status.busy": "2024-02-16T11:54:26.942517Z",
          "iopub.status.idle": "2024-02-16T11:54:27.482609Z",
          "shell.execute_reply": "2024-02-16T11:54:27.481668Z",
          "shell.execute_reply.started": "2024-02-16T11:54:26.942784Z"
        },
        "id": "FPJ-egNtYsX8",
        "outputId": "edddfefa-4ae6-481e-b31f-f69d9ad276de",
        "trusted": true
      },
      "outputs": [
        {
          "data": {
            "image/png": "[encoded data removed]",
            "text/plain": [
              "<Figure size 1500x600 with 1 Axes>"
            ]
          },
          "metadata": {},
          "output_type": "display_data"
        },
        {
          "name": "stdout",
          "output_type": "stream",
          "text": [
            "\n",
            "\n",
            "Average distribution tokens 243.0\n"
          ]
        }
      ],
      "source": [
        "plot_distribution(answer_token_counts, \"Distribution of token counts for answer(output) only\")"
      ]
    },
    {
      "cell_type": "code",
      "execution_count": null,
      "metadata": {
        "colab": {
          "base_uri": "https://localhost:8080/",
          "height": 399
        },
        "execution": {
          "iopub.execute_input": "2024-02-16T11:54:27.485699Z",
          "iopub.status.busy": "2024-02-16T11:54:27.485011Z",
          "iopub.status.idle": "2024-02-16T11:54:28.080843Z",
          "shell.execute_reply": "2024-02-16T11:54:28.079733Z",
          "shell.execute_reply.started": "2024-02-16T11:54:27.485661Z"
        },
        "id": "0ptqe9KZYsVa",
        "outputId": "6fbc456c-dda3-457f-9f6a-92206f818c3f",
        "trusted": true
      },
      "outputs": [
        {
          "data": {
            "image/png": "[encoded data removed]",
            "text/plain": [
              "<Figure size 1500x600 with 1 Axes>"
            ]
          },
          "metadata": {},
          "output_type": "display_data"
        },
        {
          "name": "stdout",
          "output_type": "stream",
          "text": [
            "\n",
            "\n",
            "Average distribution tokens 21.0\n"
          ]
        }
      ],
      "source": [
        "plot_distribution(instruction_token_counts, \"Distribution of token counts for instruction\")"
      ]
    },
    {
      "cell_type": "code",
      "execution_count": null,
      "metadata": {
        "colab": {
          "base_uri": "https://localhost:8080/",
          "height": 399
        },
        "execution": {
          "iopub.execute_input": "2024-02-16T11:54:36.041286Z",
          "iopub.status.busy": "2024-02-16T11:54:36.040386Z",
          "iopub.status.idle": "2024-02-16T11:54:36.672640Z",
          "shell.execute_reply": "2024-02-16T11:54:36.671707Z",
          "shell.execute_reply.started": "2024-02-16T11:54:36.041246Z"
        },
        "id": "nHQKN_nJYsSl",
        "outputId": "6de4a35a-853c-45aa-9488-f885943beba3",
        "trusted": true
      },
      "outputs": [
        {
          "data": {
            "image/png": "[encoded data removed]",
            "text/plain": [
              "<Figure size 1500x600 with 1 Axes>"
            ]
          },
          "metadata": {},
          "output_type": "display_data"
        },
        {
          "name": "stdout",
          "output_type": "stream",
          "text": [
            "\n",
            "\n",
            "Average distribution tokens 279.0\n"
          ]
        }
      ],
      "source": [
        "plot_distribution(combined_token_counts, \"Distribution of token counts for combined instruction + input + output\")"
      ]
    },
    {
      "cell_type": "markdown",
      "metadata": {
        "id": "gn9jmBNed-ZR"
      },
      "source": [
        "## Filter out rows with more than 512 tokens\n",
        "because the average token dataset is 280, then I will delete token lengths more than 512 (outliers)"
      ]
    },
    {
      "cell_type": "code",
      "execution_count": null,
      "metadata": {
        "colab": {
          "base_uri": "https://localhost:8080/",
          "height": 434
        },
        "execution": {
          "iopub.execute_input": "2024-02-16T11:54:41.341736Z",
          "iopub.status.busy": "2024-02-16T11:54:41.341023Z",
          "iopub.status.idle": "2024-02-16T11:54:42.006350Z",
          "shell.execute_reply": "2024-02-16T11:54:42.005397Z",
          "shell.execute_reply.started": "2024-02-16T11:54:41.341700Z"
        },
        "id": "IhsYwXKhYsPz",
        "outputId": "48d9a3b9-d55e-49e2-8bb0-f8ed81397877",
        "trusted": true
      },
      "outputs": [
        {
          "name": "stdout",
          "output_type": "stream",
          "text": [
            "Number of valid rows: 15253\n",
            "Removing 1857 rows...\n"
          ]
        },
        {
          "data": {
            "image/png": "[encoded data removed]",
            "text/plain": [
              "<Figure size 1500x600 with 1 Axes>"
            ]
          },
          "metadata": {},
          "output_type": "display_data"
        },
        {
          "name": "stdout",
          "output_type": "stream",
          "text": [
            "\n",
            "\n",
            "Average distribution tokens 222.0\n"
          ]
        }
      ],
      "source": [
        "valid_indices = [i for i, count in enumerate(combined_token_counts) if count <= 512]\n",
        "print(f\"Number of valid rows: {len(valid_indices)}\")\n",
        "print(f\"Removing {len(dataset) - len(valid_indices)} rows...\")\n",
        "\n",
        "# Extract valid rows based on indices\n",
        "new_dataset = dataset.select(valid_indices)\n",
        "\n",
        "# Get token counts for valid rows\n",
        "token_counts = [combined_token_counts[i] for i in valid_indices]\n",
        "\n",
        "plot_distribution(token_counts, \"New distribution of token counts for combined instruction + input + output\")"
      ]
    },
    {
      "cell_type": "markdown",
      "metadata": {
        "id": "XTOAt4HmhYj9"
      },
      "source": [
        "You can see, we still have a lot of datasets...\n",
        "\n",
        "## Near-deduplication using embeddings\n",
        "The \"Near-deduplication using embeddings\" technique in data processing refers to an approach to identifying and removing near-duplicates data using an embedding representation of that data."
      ]
    },
    {
      "cell_type": "code",
      "execution_count": null,
      "metadata": {
        "execution": {
          "iopub.execute_input": "2024-02-16T11:54:47.340026Z",
          "iopub.status.busy": "2024-02-16T11:54:47.339585Z",
          "iopub.status.idle": "2024-02-16T11:54:48.765227Z",
          "shell.execute_reply": "2024-02-16T11:54:48.764480Z",
          "shell.execute_reply.started": "2024-02-16T11:54:47.339983Z"
        },
        "id": "UZKqbHI8hflQ",
        "trusted": true
      },
      "outputs": [],
      "source": [
        "from sentence_transformers import SentenceTransformer\n",
        "import faiss\n",
        "from datasets import Dataset, DatasetDict\n",
        "from tqdm.autonotebook import tqdm\n",
        "import numpy as np"
      ]
    },
    {
      "cell_type": "code",
      "execution_count": null,
      "metadata": {
        "execution": {
          "iopub.execute_input": "2024-02-16T11:54:48.839662Z",
          "iopub.status.busy": "2024-02-16T11:54:48.839346Z",
          "iopub.status.idle": "2024-02-16T11:54:48.848918Z",
          "shell.execute_reply": "2024-02-16T11:54:48.848047Z",
          "shell.execute_reply.started": "2024-02-16T11:54:48.839634Z"
        },
        "id": "1RTH9VaikcF-",
        "trusted": true
      },
      "outputs": [],
      "source": [
        "def deduplicate_dataset(dataset: Dataset, model: str, threshold: float):\n",
        "    sentence_model = SentenceTransformer(model)\n",
        "    outputs = [example[\"output\"] for example in dataset]\n",
        "\n",
        "    print(\"Converting text to embeddings...\")\n",
        "    embeddings = sentence_model.encode(outputs, show_progress_bar=True)\n",
        "    dimension = embeddings.shape[1]\n",
        "    index = faiss.IndexFlatIP(dimension)\n",
        "    normalized_embeddings = embeddings / np.linalg.norm(embeddings, axis=1, keepdims=True)\n",
        "    index.add(normalized_embeddings)\n",
        "\n",
        "    print(\"Filtering out near-duplicates...\")\n",
        "    D, I = index.search(normalized_embeddings, k=2)\n",
        "    to_keep = []\n",
        "\n",
        "    for i in tqdm(range(len(embeddings)), desc=\"Filtering\"):\n",
        "        # If the second closest vector (D[i, 1]) has cosine similarity above the threshold\n",
        "        if D[i, 1] >= threshold:\n",
        "            # Check if either the current item or its nearest neighbor is already in the to_keep list\n",
        "            nearest_neighbor = I[i, 1]\n",
        "            if i not in to_keep and nearest_neighbor not in to_keep:\n",
        "                # If not, add the current item to the list\n",
        "                to_keep.append(i)\n",
        "        else:\n",
        "            # If the similarity is below the threshold, always keep the current item\n",
        "            to_keep.append(i)\n",
        "\n",
        "    dataset = dataset.select(to_keep)\n",
        "    return DatasetDict({\"train\": dataset})\n"
      ]
    },
    {
      "cell_type": "code",
      "execution_count": null,
      "metadata": {
        "colab": {
          "base_uri": "https://localhost:8080/",
          "height": 66,
          "referenced_widgets": [
            "cea646ee0eba4188bd029b0cc3552abc",
            "756e5a6be3dd4a25b698c348dc8d1d11",
            "7d9043ed9a2841829de515d1bebfcb99",
            "eb61a67068ec49ffa5208c15561c1719",
            "087efb6bb68741338006aac890a41344",
            "a2de982c27294e9a8c7413d66153af5b",
            "2e58ccea372541e9a524b526d662f590",
            "7611b1c3ffad489cb32cd203159a7781",
            "f729063e2b7b487bbfb835cbd41c3d49",
            "61b0be5e3e5c401ab2d227b6daca1db0",
            "2f7a82dad09d40cda7ca9a32be93c910",
            "581030b8251a4625a62c392e12e919aa",
            "c21fabce76ba475fa576b2ecb1b2cd7d",
            "3bc1d2e165194655ad7fc8e43d4a0283",
            "eb089fa08b8948a18afa7fb94123765b",
            "624adb8339684dcabdac661da8ca708b",
            "db233514ae3e48679fb35a3ee9491bf0",
            "71261c0eb2df406899a706feb9c0fb94",
            "f6a89289bd324e989cee12c4ae8049e3",
            "2834ce4430d84c579e4ec837ed18fa3f",
            "e24b8fc7314d4b589516adad284ff568",
            "96511e2974974f909ee60cc8748879c5",
            "18e4ee5d060246ee83abbff0f7dc6386"
          ]
        },
        "execution": {
          "iopub.execute_input": "2024-02-16T11:54:53.440167Z",
          "iopub.status.busy": "2024-02-16T11:54:53.439764Z",
          "iopub.status.idle": "2024-02-16T12:04:56.513679Z",
          "shell.execute_reply": "2024-02-16T12:04:56.512586Z",
          "shell.execute_reply.started": "2024-02-16T11:54:53.440135Z"
        },
        "id": "hY13EA-ZoWzq",
        "outputId": "ca3f419f-6e75-4f8d-e9ca-c36d784014c0",
        "trusted": true
      },
      "outputs": [
        {
          "data": {
            "application/vnd.jupyter.widget-view+json": {
              "model_id": "581030b8251a4625a62c392e12e919aa",
              "version_major": 2,
              "version_minor": 0
            },
            "text/plain": [
              "modules.json:   0%|          | 0.00/385 [00:00<?, ?B/s]"
            ]
          },
          "metadata": {},
          "output_type": "display_data"
        },
        {
          "data": {
            "application/vnd.jupyter.widget-view+json": {
              "model_id": "c21fabce76ba475fa576b2ecb1b2cd7d",
              "version_major": 2,
              "version_minor": 0
            },
            "text/plain": [
              "README.md:   0%|          | 0.00/67.9k [00:00<?, ?B/s]"
            ]
          },
          "metadata": {},
          "output_type": "display_data"
        },
        {
          "data": {
            "application/vnd.jupyter.widget-view+json": {
              "model_id": "3bc1d2e165194655ad7fc8e43d4a0283",
              "version_major": 2,
              "version_minor": 0
            },
            "text/plain": [
              "sentence_bert_config.json:   0%|          | 0.00/57.0 [00:00<?, ?B/s]"
            ]
          },
          "metadata": {},
          "output_type": "display_data"
        },
        {
          "data": {
            "application/vnd.jupyter.widget-view+json": {
              "model_id": "eb089fa08b8948a18afa7fb94123765b",
              "version_major": 2,
              "version_minor": 0
            },
            "text/plain": [
              "config.json:   0%|          | 0.00/619 [00:00<?, ?B/s]"
            ]
          },
          "metadata": {},
          "output_type": "display_data"
        },
        {
          "data": {
            "application/vnd.jupyter.widget-view+json": {
              "model_id": "624adb8339684dcabdac661da8ca708b",
              "version_major": 2,
              "version_minor": 0
            },
            "text/plain": [
              "model.safetensors:   0%|          | 0.00/670M [00:00<?, ?B/s]"
            ]
          },
          "metadata": {},
          "output_type": "display_data"
        },
        {
          "data": {
            "application/vnd.jupyter.widget-view+json": {
              "model_id": "db233514ae3e48679fb35a3ee9491bf0",
              "version_major": 2,
              "version_minor": 0
            },
            "text/plain": [
              "tokenizer_config.json:   0%|          | 0.00/342 [00:00<?, ?B/s]"
            ]
          },
          "metadata": {},
          "output_type": "display_data"
        },
        {
          "data": {
            "application/vnd.jupyter.widget-view+json": {
              "model_id": "71261c0eb2df406899a706feb9c0fb94",
              "version_major": 2,
              "version_minor": 0
            },
            "text/plain": [
              "vocab.txt:   0%|          | 0.00/232k [00:00<?, ?B/s]"
            ]
          },
          "metadata": {},
          "output_type": "display_data"
        },
        {
          "data": {
            "application/vnd.jupyter.widget-view+json": {
              "model_id": "f6a89289bd324e989cee12c4ae8049e3",
              "version_major": 2,
              "version_minor": 0
            },
            "text/plain": [
              "tokenizer.json:   0%|          | 0.00/712k [00:00<?, ?B/s]"
            ]
          },
          "metadata": {},
          "output_type": "display_data"
        },
        {
          "data": {
            "application/vnd.jupyter.widget-view+json": {
              "model_id": "2834ce4430d84c579e4ec837ed18fa3f",
              "version_major": 2,
              "version_minor": 0
            },
            "text/plain": [
              "special_tokens_map.json:   0%|          | 0.00/125 [00:00<?, ?B/s]"
            ]
          },
          "metadata": {},
          "output_type": "display_data"
        },
        {
          "data": {
            "application/vnd.jupyter.widget-view+json": {
              "model_id": "e24b8fc7314d4b589516adad284ff568",
              "version_major": 2,
              "version_minor": 0
            },
            "text/plain": [
              "1_Pooling/config.json:   0%|          | 0.00/191 [00:00<?, ?B/s]"
            ]
          },
          "metadata": {},
          "output_type": "display_data"
        },
        {
          "name": "stdout",
          "output_type": "stream",
          "text": [
            "Converting text to embeddings...\n"
          ]
        },
        {
          "data": {
            "application/vnd.jupyter.widget-view+json": {
              "model_id": "96511e2974974f909ee60cc8748879c5",
              "version_major": 2,
              "version_minor": 0
            },
            "text/plain": [
              "Batches:   0%|          | 0/477 [00:00<?, ?it/s]"
            ]
          },
          "metadata": {},
          "output_type": "display_data"
        },
        {
          "name": "stdout",
          "output_type": "stream",
          "text": [
            "Filtering out near-duplicates...\n"
          ]
        },
        {
          "data": {
            "application/vnd.jupyter.widget-view+json": {
              "model_id": "18e4ee5d060246ee83abbff0f7dc6386",
              "version_major": 2,
              "version_minor": 0
            },
            "text/plain": [
              "Filtering:   0%|          | 0/15253 [00:00<?, ?it/s]"
            ]
          },
          "metadata": {},
          "output_type": "display_data"
        }
      ],
      "source": [
        "deduped_dataset = deduplicate_dataset(new_dataset, \"thenlper/gte-large\", 0.95)"
      ]
    },
    {
      "cell_type": "code",
      "execution_count": null,
      "metadata": {
        "execution": {
          "iopub.execute_input": "2024-02-16T12:09:45.472369Z",
          "iopub.status.busy": "2024-02-16T12:09:45.471455Z",
          "iopub.status.idle": "2024-02-16T12:09:45.477668Z",
          "shell.execute_reply": "2024-02-16T12:09:45.476671Z",
          "shell.execute_reply.started": "2024-02-16T12:09:45.472332Z"
        },
        "id": "8ItCIgAO74NK",
        "outputId": "6ab34b72-9a92-4aa1-8767-3510dc976891",
        "trusted": true
      },
      "outputs": [
        {
          "name": "stdout",
          "output_type": "stream",
          "text": [
            "Number of samples in the original dataset: 15253\n",
            "Number of samples in the deduped dataset: 15164\n",
            "Number of samples that were removed: 89\n"
          ]
        }
      ],
      "source": [
        "print(f\"Number of samples in the original dataset: {len(new_dataset)}\")\n",
        "print(f\"Number of samples in the deduped dataset: {len(deduped_dataset['train'])}\")\n",
        "print(f\"Number of samples that were removed: {len(new_dataset) - len(deduped_dataset['train'])}\")"
      ]
    },
    {
      "cell_type": "code",
      "execution_count": null,
      "metadata": {
        "execution": {
          "iopub.execute_input": "2024-02-16T12:04:56.516598Z",
          "iopub.status.busy": "2024-02-16T12:04:56.516085Z",
          "iopub.status.idle": "2024-02-16T12:04:56.523249Z",
          "shell.execute_reply": "2024-02-16T12:04:56.522192Z",
          "shell.execute_reply.started": "2024-02-16T12:04:56.516568Z"
        },
        "id": "qbZ7_VEKogVK",
        "outputId": "574633ea-b026-4627-f4c6-af68c60f6d82",
        "trusted": true
      },
      "outputs": [
        {
          "data": {
            "text/plain": [
              "Dataset({\n",
              "    features: ['input', 'output', 'instruction'],\n",
              "    num_rows: 15164\n",
              "})"
            ]
          },
          "execution_count": 15,
          "metadata": {},
          "output_type": "execute_result"
        }
      ],
      "source": [
        "deduped_dataset[\"train\"]"
      ]
    },
    {
      "cell_type": "markdown",
      "metadata": {
        "id": "LK_2LsJ9lNw8"
      },
      "source": [
        "## Top-K Sampling"
      ]
    },
    {
      "cell_type": "code",
      "execution_count": null,
      "metadata": {
        "execution": {
          "iopub.execute_input": "2024-02-16T12:15:47.195277Z",
          "iopub.status.busy": "2024-02-16T12:15:47.194345Z",
          "iopub.status.idle": "2024-02-16T12:16:08.023905Z",
          "shell.execute_reply": "2024-02-16T12:16:08.022993Z",
          "shell.execute_reply.started": "2024-02-16T12:15:47.195242Z"
        },
        "id": "ZX5e_JmVkcAr",
        "trusted": true
      },
      "outputs": [],
      "source": [
        "# Get the top k rows with the most tokens\n",
        "def get_top_k_rows(dataset, token_counts, k):\n",
        "    # Sort by descending token count and get top k indices\n",
        "    sorted_indices = sorted(range(len(token_counts)), key=lambda i: token_counts[i], reverse=True)\n",
        "    top_k_indices = sorted_indices[:k]\n",
        "\n",
        "    # Extract top k rows\n",
        "    top_k_data = {\n",
        "        \"instruction\": [dataset['train'][i][\"instruction\"] for i in top_k_indices],\n",
        "        \"input\": [dataset['train'][i][\"input\"] for i in top_k_indices],\n",
        "        \"output\": [dataset['train'][i][\"output\"] for i in top_k_indices]\n",
        "    }\n",
        "\n",
        "    return Dataset.from_dict(top_k_data), top_k_data\n",
        "\n",
        "# Get token counts\n",
        "instruction_token_counts = [len(tokenizer.tokenize(example[\"instruction\"])) for example in deduped_dataset['train']]\n",
        "input_token_counts = [len(tokenizer.tokenize(example[\"input\"])) for example in deduped_dataset['train']]\n",
        "output_token_counts = [len(tokenizer.tokenize(example[\"output\"])) for example in deduped_dataset['train']]\n",
        "combined_token_counts = [instruction + input_ + output for instruction, input_, output in zip(instruction_token_counts, input_token_counts, output_token_counts)]\n",
        "\n",
        "k = 2000  # You can adjust this value as needed\n",
        "top_k_dataset, data = get_top_k_rows(deduped_dataset, combined_token_counts, k)\n",
        "\n",
        "# Save these rows in a Dataset object with a 'train' split\n",
        "dataset = DatasetDict({\"train\": top_k_dataset})"
      ]
    },
    {
      "cell_type": "code",
      "execution_count": null,
      "metadata": {
        "execution": {
          "iopub.execute_input": "2024-02-16T12:23:34.218223Z",
          "iopub.status.busy": "2024-02-16T12:23:34.217217Z",
          "iopub.status.idle": "2024-02-16T12:23:34.225711Z",
          "shell.execute_reply": "2024-02-16T12:23:34.224554Z",
          "shell.execute_reply.started": "2024-02-16T12:23:34.218185Z"
        },
        "id": "J9RB9Eofkb93",
        "outputId": "8862754c-67ac-4371-a01e-d0ea10a94399",
        "trusted": true
      },
      "outputs": [
        {
          "data": {
            "text/plain": [
              "{'instruction': 'Share your insights or perspective on the financial matter presented in the input.',\n",
              " 'input': 'How and why does the exchange rate of a currency change almost everyday?',\n",
              " 'output': 'Money is money because people believe it is money. By \"believe it is money\", I mean that they expect they will be able to turn it into useful goods or services (food, rent, houses, truckloads full of iron ore, mining equipment, massages at the spa, helicopter rides, iPads, greenhouses, income streams to support your future retirement, etc). Foreign exchange rates change because people\\'s ideas about how much useful goods or services they can get with various currencies change. For example: if the Zimbabwe government suddenly printed 10 times as much money as used to exist, you probably couldn\\'t use that money to buy as much food at the Zimbabwe-Mart, so you wouldn\\'t be willing to give people as many US-dollars (which can buy food at the US-Mart) for a Zimbabwe-dollar as you used to be able to. (It\\'s not exactly that easy, because - for instance - food in the US is more useful to me than food in Zimbabwe. But people still move around all sorts of things, like oil, or agricultural products, or minerals, or electronics components.) The two main things that affect the value of a currency are the size of the economy that it\\'s tied to (how much stuff there is to get), and how much of the currency there is / how fast it\\'s moving around the economy (which tells you how much money there is to get it with). So most exchange rate shifts reflect a change in people\\'s expectations for a regional economy, or the size of a money supply. (Also, Zimbabwe is doing much better now that it\\'s ditched their own currency - they kept printing trillions of dollars\\' worth - and just trade in US dollars. Their economy still needs some work, but... better.)'}"
            ]
          },
          "execution_count": 29,
          "metadata": {},
          "output_type": "execute_result"
        }
      ],
      "source": [
        "dataset[\"train\"][1001]"
      ]
    },
    {
      "cell_type": "code",
      "execution_count": null,
      "metadata": {
        "execution": {
          "iopub.execute_input": "2024-02-16T12:25:27.045758Z",
          "iopub.status.busy": "2024-02-16T12:25:27.045042Z",
          "iopub.status.idle": "2024-02-16T12:25:33.438072Z",
          "shell.execute_reply": "2024-02-16T12:25:33.437266Z",
          "shell.execute_reply.started": "2024-02-16T12:25:27.045723Z"
        },
        "id": "4T9IHcInkb3t",
        "trusted": true
      },
      "outputs": [],
      "source": [
        "instruction_token_counts = [len(tokenizer.tokenize(example[\"instruction\"])) for example in dataset['train']]\n",
        "input_token_counts = [len(tokenizer.tokenize(example[\"input\"])) for example in deduped_dataset['train']]\n",
        "output_token_counts = [len(tokenizer.tokenize(example[\"output\"])) for example in dataset['train']]\n",
        "combined_token_counts = [instruction + input_ + output for instruction, input_, output in zip(instruction_token_counts, input_token_counts, output_token_counts)]"
      ]
    },
    {
      "cell_type": "code",
      "execution_count": null,
      "metadata": {
        "execution": {
          "iopub.execute_input": "2024-02-16T12:25:58.026394Z",
          "iopub.status.busy": "2024-02-16T12:25:58.025988Z",
          "iopub.status.idle": "2024-02-16T12:25:58.534981Z",
          "shell.execute_reply": "2024-02-16T12:25:58.533705Z",
          "shell.execute_reply.started": "2024-02-16T12:25:58.026365Z"
        },
        "id": "fuqmKmWbkb0u",
        "outputId": "f7fe820c-2934-476d-c39e-00c1791d2862",
        "trusted": true
      },
      "outputs": [
        {
          "data": {
            "image/png": "[encoded data removed]",
            "text/plain": [
              "<Figure size 1500x600 with 1 Axes>"
            ]
          },
          "metadata": {},
          "output_type": "display_data"
        },
        {
          "name": "stdout",
          "output_type": "stream",
          "text": [
            "\n",
            "\n",
            "Average distribution tokens 21.0\n"
          ]
        }
      ],
      "source": [
        "# Plot the distribution of token counts\n",
        "plot_distribution(instruction_token_counts, \"Distribution of token counts for instruction only\")"
      ]
    },
    {
      "cell_type": "code",
      "execution_count": null,
      "metadata": {
        "execution": {
          "iopub.execute_input": "2024-02-16T12:26:18.297889Z",
          "iopub.status.busy": "2024-02-16T12:26:18.297456Z",
          "iopub.status.idle": "2024-02-16T12:26:18.758775Z",
          "shell.execute_reply": "2024-02-16T12:26:18.757727Z",
          "shell.execute_reply.started": "2024-02-16T12:26:18.297853Z"
        },
        "id": "sgPFnyBD74NM",
        "outputId": "fe0e8188-2289-4096-b464-0ae3c74c3278",
        "trusted": true
      },
      "outputs": [
        {
          "data": {
            "image/png": "[encoded data removed]",
            "text/plain": [
              "<Figure size 1500x600 with 1 Axes>"
            ]
          },
          "metadata": {},
          "output_type": "display_data"
        },
        {
          "name": "stdout",
          "output_type": "stream",
          "text": [
            "\n",
            "\n",
            "Average distribution tokens 394.0\n"
          ]
        }
      ],
      "source": [
        "plot_distribution(output_token_counts, \"Distribution of token counts for output only\")"
      ]
    },
    {
      "cell_type": "code",
      "execution_count": null,
      "metadata": {
        "execution": {
          "iopub.execute_input": "2024-02-16T12:26:52.505563Z",
          "iopub.status.busy": "2024-02-16T12:26:52.505126Z",
          "iopub.status.idle": "2024-02-16T12:26:53.042687Z",
          "shell.execute_reply": "2024-02-16T12:26:53.041678Z",
          "shell.execute_reply.started": "2024-02-16T12:26:52.505528Z"
        },
        "id": "OheKXTWm74NN",
        "outputId": "b65ef6fb-e066-46c9-cef2-fe054d319124",
        "trusted": true
      },
      "outputs": [
        {
          "data": {
            "image/png": "[encoded data removed]",
            "text/plain": [
              "<Figure size 1500x600 with 1 Axes>"
            ]
          },
          "metadata": {},
          "output_type": "display_data"
        },
        {
          "name": "stdout",
          "output_type": "stream",
          "text": [
            "\n",
            "\n",
            "Average distribution tokens 15.0\n"
          ]
        }
      ],
      "source": [
        "plot_distribution(input_token_counts, \"Distribution of token counts for input only\")"
      ]
    },
    {
      "cell_type": "code",
      "execution_count": null,
      "metadata": {
        "execution": {
          "iopub.execute_input": "2024-02-16T12:27:08.606062Z",
          "iopub.status.busy": "2024-02-16T12:27:08.605582Z",
          "iopub.status.idle": "2024-02-16T12:27:09.105348Z",
          "shell.execute_reply": "2024-02-16T12:27:09.104449Z",
          "shell.execute_reply.started": "2024-02-16T12:27:08.606023Z"
        },
        "id": "3Psb_vpn74NN",
        "outputId": "9f48065d-4169-4a24-a8a3-98dee4cf488c",
        "trusted": true
      },
      "outputs": [
        {
          "data": {
            "image/png": "[encoded data removed]",
            "text/plain": [
              "<Figure size 1500x600 with 1 Axes>"
            ]
          },
          "metadata": {},
          "output_type": "display_data"
        },
        {
          "name": "stdout",
          "output_type": "stream",
          "text": [
            "\n",
            "\n",
            "Average distribution tokens 430.0\n"
          ]
        }
      ],
      "source": [
        "plot_distribution(combined_token_counts, \"Distribution of token counts for combined instruction + input + output\")"
      ]
    },
    {
      "cell_type": "code",
      "execution_count": 35,
      "metadata": {
        "id": "U2KnM8xTFU2x"
      },
      "outputs": [],
      "source": [
        "# Save to json format\n",
        "import json\n",
        "new_data = dataset.train_test_split(test_size=0.2)\n",
        "train = new_data[\"train\"]\n",
        "test = new_data[\"test\"]"
      ]
    },
    {
      "cell_type": "code",
      "execution_count": 37,
      "metadata": {
        "id": "mLH8UukjFk9x"
      },
      "outputs": [],
      "source": [
        "train_data = []\n",
        "\n",
        "for i, inst in enumerate(train[\"instruction\"]):\n",
        "    x = {\n",
        "        \"instruction\": inst,\n",
        "        \"input\": train[\"input\"][i],\n",
        "        \"output\": train[\"output\"][i]\n",
        "    }\n",
        "    train_data.append(x)\n",
        "\n",
        "with open(\"data/training_dataset.json\", \"w\") as json_file:\n",
        "    json.dump(train_data, json_file, indent=4)\n"
      ]
    },
    {
      "cell_type": "code",
      "execution_count": 38,
      "metadata": {
        "id": "85M08PtPCXtw"
      },
      "outputs": [],
      "source": [
        "test_data = []\n",
        "\n",
        "for i, inst in enumerate(test[\"instruction\"]):\n",
        "    x = {\n",
        "        \"instruction\": inst,\n",
        "        \"input\": test[\"input\"][i],\n",
        "        \"output\": test[\"output\"][i]\n",
        "    }\n",
        "    test_data.append(x)\n",
        "\n",
        "with open(\"data/testing_dataset.json\", \"w\") as json_file:\n",
        "    json.dump(test_data, json_file, indent=4)\n"
      ]
    }
  ],
  "metadata": {
    "colab": {
      "provenance": []
    },
    "kaggle": {
      "accelerator": "nvidiaTeslaT4",
      "dataSources": [],
      "dockerImageVersionId": 30646,
      "isGpuEnabled": true,
      "isInternetEnabled": true,
      "language": "python",
      "sourceType": "notebook"
    },
    "kernelspec": {
      "display_name": "Python 3",
      "name": "python3"
    },
    "language_info": {
      "codemirror_mode": {
        "name": "ipython",
        "version": 3
      },
      "file_extension": ".py",
      "mimetype": "text/x-python",
      "name": "python",
      "nbconvert_exporter": "python",
      "pygments_lexer": "ipython3",
      "version": "3.10.13"
    },
    "widgets": {
      "application/vnd.jupyter.widget-state+json": {
        "04be653864ed4a94afa09d6f95ed3330": {
          "model_module": "@jupyter-widgets/controls",
          "model_module_version": "1.5.0",
          "model_name": "FloatProgressModel",
          "state": {
            "_dom_classes": [],
            "_model_module": "@jupyter-widgets/controls",
            "_model_module_version": "1.5.0",
            "_model_name": "FloatProgressModel",
            "_view_count": null,
            "_view_module": "@jupyter-widgets/controls",
            "_view_module_version": "1.5.0",
            "_view_name": "ProgressView",
            "bar_style": "success",
            "description": "",
            "description_tooltip": null,
            "layout": "IPY_MODEL_90d64aef789e42558034f96c415e640e",
            "max": 1795303,
            "min": 0,
            "orientation": "horizontal",
            "style": "IPY_MODEL_32d7ff1d73ee4bab950c960faa0e79e2",
            "value": 1795303
          }
        },
        "087efb6bb68741338006aac890a41344": {
          "model_module": "@jupyter-widgets/base",
          "model_module_version": "1.2.0",
          "model_name": "LayoutModel",
          "state": {
            "_model_module": "@jupyter-widgets/base",
            "_model_module_version": "1.2.0",
            "_model_name": "LayoutModel",
            "_view_count": null,
            "_view_module": "@jupyter-widgets/base",
            "_view_module_version": "1.2.0",
            "_view_name": "LayoutView",
            "align_content": null,
            "align_items": null,
            "align_self": null,
            "border": null,
            "bottom": null,
            "display": null,
            "flex": null,
            "flex_flow": null,
            "grid_area": null,
            "grid_auto_columns": null,
            "grid_auto_flow": null,
            "grid_auto_rows": null,
            "grid_column": null,
            "grid_gap": null,
            "grid_row": null,
            "grid_template_areas": null,
            "grid_template_columns": null,
            "grid_template_rows": null,
            "height": null,
            "justify_content": null,
            "justify_items": null,
            "left": null,
            "margin": null,
            "max_height": null,
            "max_width": null,
            "min_height": null,
            "min_width": null,
            "object_fit": null,
            "object_position": null,
            "order": null,
            "overflow": null,
            "overflow_x": null,
            "overflow_y": null,
            "padding": null,
            "right": null,
            "top": null,
            "visibility": null,
            "width": null
          }
        },
        "096600d9e60b4209893ec9083170f846": {
          "model_module": "@jupyter-widgets/controls",
          "model_module_version": "1.5.0",
          "model_name": "HTMLModel",
          "state": {
            "_dom_classes": [],
            "_model_module": "@jupyter-widgets/controls",
            "_model_module_version": "1.5.0",
            "_model_name": "HTMLModel",
            "_view_count": null,
            "_view_module": "@jupyter-widgets/controls",
            "_view_module_version": "1.5.0",
            "_view_name": "HTMLView",
            "description": "",
            "description_tooltip": null,
            "layout": "IPY_MODEL_d2687eade0634e849242792169ab95ff",
            "placeholder": "​",
            "style": "IPY_MODEL_fa3de74c2c444a1dadb6cb21ee4d52b5",
            "value": " 72.0/72.0 [00:00&lt;00:00, 2.41kB/s]"
          }
        },
        "113146f2833b4f57ae39b1c1dcaa3808": {
          "model_module": "@jupyter-widgets/controls",
          "model_module_version": "1.5.0",
          "model_name": "DescriptionStyleModel",
          "state": {
            "_model_module": "@jupyter-widgets/controls",
            "_model_module_version": "1.5.0",
            "_model_name": "DescriptionStyleModel",
            "_view_count": null,
            "_view_module": "@jupyter-widgets/base",
            "_view_module_version": "1.2.0",
            "_view_name": "StyleView",
            "description_width": ""
          }
        },
        "11fe15c3d2af48dc906a487a4802dad0": {
          "model_module": "@jupyter-widgets/controls",
          "model_module_version": "1.5.0",
          "model_name": "HBoxModel",
          "state": {
            "_dom_classes": [],
            "_model_module": "@jupyter-widgets/controls",
            "_model_module_version": "1.5.0",
            "_model_name": "HBoxModel",
            "_view_count": null,
            "_view_module": "@jupyter-widgets/controls",
            "_view_module_version": "1.5.0",
            "_view_name": "HBoxView",
            "box_style": "",
            "children": [
              "IPY_MODEL_5ebc1bc510d44626a6ca017f03a90c22",
              "IPY_MODEL_8e50183df5554f7e8ef9ac8aa547db6f",
              "IPY_MODEL_096600d9e60b4209893ec9083170f846"
            ],
            "layout": "IPY_MODEL_52b99a6d064241d08cbab52012fe6faf"
          }
        },
        "1a47c228332a4bf4871db8710e434743": {
          "model_module": "@jupyter-widgets/controls",
          "model_module_version": "1.5.0",
          "model_name": "FloatProgressModel",
          "state": {
            "_dom_classes": [],
            "_model_module": "@jupyter-widgets/controls",
            "_model_module_version": "1.5.0",
            "_model_name": "FloatProgressModel",
            "_view_count": null,
            "_view_module": "@jupyter-widgets/controls",
            "_view_module_version": "1.5.0",
            "_view_name": "ProgressView",
            "bar_style": "success",
            "description": "",
            "description_tooltip": null,
            "layout": "IPY_MODEL_f3ccfcb8a5cc4d59ac4a4e47638ef867",
            "max": 967,
            "min": 0,
            "orientation": "horizontal",
            "style": "IPY_MODEL_b1f9b537268548589b56f861ad6aecc1",
            "value": 967
          }
        },
        "1bedda67264146e7b86e2294f4688439": {
          "model_module": "@jupyter-widgets/controls",
          "model_module_version": "1.5.0",
          "model_name": "DescriptionStyleModel",
          "state": {
            "_model_module": "@jupyter-widgets/controls",
            "_model_module_version": "1.5.0",
            "_model_name": "DescriptionStyleModel",
            "_view_count": null,
            "_view_module": "@jupyter-widgets/base",
            "_view_module_version": "1.2.0",
            "_view_name": "StyleView",
            "description_width": ""
          }
        },
        "295a32ee5a18462193fe12cd8bce81e6": {
          "model_module": "@jupyter-widgets/controls",
          "model_module_version": "1.5.0",
          "model_name": "HBoxModel",
          "state": {
            "_dom_classes": [],
            "_model_module": "@jupyter-widgets/controls",
            "_model_module_version": "1.5.0",
            "_model_name": "HBoxModel",
            "_view_count": null,
            "_view_module": "@jupyter-widgets/controls",
            "_view_module_version": "1.5.0",
            "_view_name": "HBoxView",
            "box_style": "",
            "children": [
              "IPY_MODEL_7f70df7d09f9400f82ca1d45860fdca4",
              "IPY_MODEL_04be653864ed4a94afa09d6f95ed3330",
              "IPY_MODEL_bcdea9d710f848daa1f76c99a37bbc0e"
            ],
            "layout": "IPY_MODEL_51ab8f6daa5347e0ab0b0e903d2e8901"
          }
        },
        "2e58ccea372541e9a524b526d662f590": {
          "model_module": "@jupyter-widgets/controls",
          "model_module_version": "1.5.0",
          "model_name": "DescriptionStyleModel",
          "state": {
            "_model_module": "@jupyter-widgets/controls",
            "_model_module_version": "1.5.0",
            "_model_name": "DescriptionStyleModel",
            "_view_count": null,
            "_view_module": "@jupyter-widgets/base",
            "_view_module_version": "1.2.0",
            "_view_name": "StyleView",
            "description_width": ""
          }
        },
        "2f7a82dad09d40cda7ca9a32be93c910": {
          "model_module": "@jupyter-widgets/controls",
          "model_module_version": "1.5.0",
          "model_name": "DescriptionStyleModel",
          "state": {
            "_model_module": "@jupyter-widgets/controls",
            "_model_module_version": "1.5.0",
            "_model_name": "DescriptionStyleModel",
            "_view_count": null,
            "_view_module": "@jupyter-widgets/base",
            "_view_module_version": "1.2.0",
            "_view_name": "StyleView",
            "description_width": ""
          }
        },
        "32bdbe87c60749a8912e592bdecb1e17": {
          "model_module": "@jupyter-widgets/base",
          "model_module_version": "1.2.0",
          "model_name": "LayoutModel",
          "state": {
            "_model_module": "@jupyter-widgets/base",
            "_model_module_version": "1.2.0",
            "_model_name": "LayoutModel",
            "_view_count": null,
            "_view_module": "@jupyter-widgets/base",
            "_view_module_version": "1.2.0",
            "_view_name": "LayoutView",
            "align_content": null,
            "align_items": null,
            "align_self": null,
            "border": null,
            "bottom": null,
            "display": null,
            "flex": null,
            "flex_flow": null,
            "grid_area": null,
            "grid_auto_columns": null,
            "grid_auto_flow": null,
            "grid_auto_rows": null,
            "grid_column": null,
            "grid_gap": null,
            "grid_row": null,
            "grid_template_areas": null,
            "grid_template_columns": null,
            "grid_template_rows": null,
            "height": null,
            "justify_content": null,
            "justify_items": null,
            "left": null,
            "margin": null,
            "max_height": null,
            "max_width": null,
            "min_height": null,
            "min_width": null,
            "object_fit": null,
            "object_position": null,
            "order": null,
            "overflow": null,
            "overflow_x": null,
            "overflow_y": null,
            "padding": null,
            "right": null,
            "top": null,
            "visibility": null,
            "width": null
          }
        },
        "32d7ff1d73ee4bab950c960faa0e79e2": {
          "model_module": "@jupyter-widgets/controls",
          "model_module_version": "1.5.0",
          "model_name": "ProgressStyleModel",
          "state": {
            "_model_module": "@jupyter-widgets/controls",
            "_model_module_version": "1.5.0",
            "_model_name": "ProgressStyleModel",
            "_view_count": null,
            "_view_module": "@jupyter-widgets/base",
            "_view_module_version": "1.2.0",
            "_view_name": "StyleView",
            "bar_color": null,
            "description_width": ""
          }
        },
        "34a314377d2f453d92a4fe6759db2eec": {
          "model_module": "@jupyter-widgets/controls",
          "model_module_version": "1.5.0",
          "model_name": "DescriptionStyleModel",
          "state": {
            "_model_module": "@jupyter-widgets/controls",
            "_model_module_version": "1.5.0",
            "_model_name": "DescriptionStyleModel",
            "_view_count": null,
            "_view_module": "@jupyter-widgets/base",
            "_view_module_version": "1.2.0",
            "_view_name": "StyleView",
            "description_width": ""
          }
        },
        "4b1fed1532f24c3fb3256d02eca7461b": {
          "model_module": "@jupyter-widgets/controls",
          "model_module_version": "1.5.0",
          "model_name": "HBoxModel",
          "state": {
            "_dom_classes": [],
            "_model_module": "@jupyter-widgets/controls",
            "_model_module_version": "1.5.0",
            "_model_name": "HBoxModel",
            "_view_count": null,
            "_view_module": "@jupyter-widgets/controls",
            "_view_module_version": "1.5.0",
            "_view_name": "HBoxView",
            "box_style": "",
            "children": [
              "IPY_MODEL_77e14490380e498a94035485e63652e9",
              "IPY_MODEL_a110aeccef0a4bd795cd1e3e36255218",
              "IPY_MODEL_67f54aae427541fba07b371a6d38dcc2"
            ],
            "layout": "IPY_MODEL_d2be809190ae4f28a032775227da2bca"
          }
        },
        "51ab8f6daa5347e0ab0b0e903d2e8901": {
          "model_module": "@jupyter-widgets/base",
          "model_module_version": "1.2.0",
          "model_name": "LayoutModel",
          "state": {
            "_model_module": "@jupyter-widgets/base",
            "_model_module_version": "1.2.0",
            "_model_name": "LayoutModel",
            "_view_count": null,
            "_view_module": "@jupyter-widgets/base",
            "_view_module_version": "1.2.0",
            "_view_name": "LayoutView",
            "align_content": null,
            "align_items": null,
            "align_self": null,
            "border": null,
            "bottom": null,
            "display": null,
            "flex": null,
            "flex_flow": null,
            "grid_area": null,
            "grid_auto_columns": null,
            "grid_auto_flow": null,
            "grid_auto_rows": null,
            "grid_column": null,
            "grid_gap": null,
            "grid_row": null,
            "grid_template_areas": null,
            "grid_template_columns": null,
            "grid_template_rows": null,
            "height": null,
            "justify_content": null,
            "justify_items": null,
            "left": null,
            "margin": null,
            "max_height": null,
            "max_width": null,
            "min_height": null,
            "min_width": null,
            "object_fit": null,
            "object_position": null,
            "order": null,
            "overflow": null,
            "overflow_x": null,
            "overflow_y": null,
            "padding": null,
            "right": null,
            "top": null,
            "visibility": null,
            "width": null
          }
        },
        "52b99a6d064241d08cbab52012fe6faf": {
          "model_module": "@jupyter-widgets/base",
          "model_module_version": "1.2.0",
          "model_name": "LayoutModel",
          "state": {
            "_model_module": "@jupyter-widgets/base",
            "_model_module_version": "1.2.0",
            "_model_name": "LayoutModel",
            "_view_count": null,
            "_view_module": "@jupyter-widgets/base",
            "_view_module_version": "1.2.0",
            "_view_name": "LayoutView",
            "align_content": null,
            "align_items": null,
            "align_self": null,
            "border": null,
            "bottom": null,
            "display": null,
            "flex": null,
            "flex_flow": null,
            "grid_area": null,
            "grid_auto_columns": null,
            "grid_auto_flow": null,
            "grid_auto_rows": null,
            "grid_column": null,
            "grid_gap": null,
            "grid_row": null,
            "grid_template_areas": null,
            "grid_template_columns": null,
            "grid_template_rows": null,
            "height": null,
            "justify_content": null,
            "justify_items": null,
            "left": null,
            "margin": null,
            "max_height": null,
            "max_width": null,
            "min_height": null,
            "min_width": null,
            "object_fit": null,
            "object_position": null,
            "order": null,
            "overflow": null,
            "overflow_x": null,
            "overflow_y": null,
            "padding": null,
            "right": null,
            "top": null,
            "visibility": null,
            "width": null
          }
        },
        "56d2dca604fe456887674490aa913359": {
          "model_module": "@jupyter-widgets/base",
          "model_module_version": "1.2.0",
          "model_name": "LayoutModel",
          "state": {
            "_model_module": "@jupyter-widgets/base",
            "_model_module_version": "1.2.0",
            "_model_name": "LayoutModel",
            "_view_count": null,
            "_view_module": "@jupyter-widgets/base",
            "_view_module_version": "1.2.0",
            "_view_name": "LayoutView",
            "align_content": null,
            "align_items": null,
            "align_self": null,
            "border": null,
            "bottom": null,
            "display": null,
            "flex": null,
            "flex_flow": null,
            "grid_area": null,
            "grid_auto_columns": null,
            "grid_auto_flow": null,
            "grid_auto_rows": null,
            "grid_column": null,
            "grid_gap": null,
            "grid_row": null,
            "grid_template_areas": null,
            "grid_template_columns": null,
            "grid_template_rows": null,
            "height": null,
            "justify_content": null,
            "justify_items": null,
            "left": null,
            "margin": null,
            "max_height": null,
            "max_width": null,
            "min_height": null,
            "min_width": null,
            "object_fit": null,
            "object_position": null,
            "order": null,
            "overflow": null,
            "overflow_x": null,
            "overflow_y": null,
            "padding": null,
            "right": null,
            "top": null,
            "visibility": null,
            "width": null
          }
        },
        "578cb73cfeab4d809448f272cb09be68": {
          "model_module": "@jupyter-widgets/base",
          "model_module_version": "1.2.0",
          "model_name": "LayoutModel",
          "state": {
            "_model_module": "@jupyter-widgets/base",
            "_model_module_version": "1.2.0",
            "_model_name": "LayoutModel",
            "_view_count": null,
            "_view_module": "@jupyter-widgets/base",
            "_view_module_version": "1.2.0",
            "_view_name": "LayoutView",
            "align_content": null,
            "align_items": null,
            "align_self": null,
            "border": null,
            "bottom": null,
            "display": null,
            "flex": null,
            "flex_flow": null,
            "grid_area": null,
            "grid_auto_columns": null,
            "grid_auto_flow": null,
            "grid_auto_rows": null,
            "grid_column": null,
            "grid_gap": null,
            "grid_row": null,
            "grid_template_areas": null,
            "grid_template_columns": null,
            "grid_template_rows": null,
            "height": null,
            "justify_content": null,
            "justify_items": null,
            "left": null,
            "margin": null,
            "max_height": null,
            "max_width": null,
            "min_height": null,
            "min_width": null,
            "object_fit": null,
            "object_position": null,
            "order": null,
            "overflow": null,
            "overflow_x": null,
            "overflow_y": null,
            "padding": null,
            "right": null,
            "top": null,
            "visibility": null,
            "width": null
          }
        },
        "58a4ea70766b459995e65d5a8c1070c1": {
          "model_module": "@jupyter-widgets/base",
          "model_module_version": "1.2.0",
          "model_name": "LayoutModel",
          "state": {
            "_model_module": "@jupyter-widgets/base",
            "_model_module_version": "1.2.0",
            "_model_name": "LayoutModel",
            "_view_count": null,
            "_view_module": "@jupyter-widgets/base",
            "_view_module_version": "1.2.0",
            "_view_name": "LayoutView",
            "align_content": null,
            "align_items": null,
            "align_self": null,
            "border": null,
            "bottom": null,
            "display": null,
            "flex": null,
            "flex_flow": null,
            "grid_area": null,
            "grid_auto_columns": null,
            "grid_auto_flow": null,
            "grid_auto_rows": null,
            "grid_column": null,
            "grid_gap": null,
            "grid_row": null,
            "grid_template_areas": null,
            "grid_template_columns": null,
            "grid_template_rows": null,
            "height": null,
            "justify_content": null,
            "justify_items": null,
            "left": null,
            "margin": null,
            "max_height": null,
            "max_width": null,
            "min_height": null,
            "min_width": null,
            "object_fit": null,
            "object_position": null,
            "order": null,
            "overflow": null,
            "overflow_x": null,
            "overflow_y": null,
            "padding": null,
            "right": null,
            "top": null,
            "visibility": null,
            "width": null
          }
        },
        "5ebc1bc510d44626a6ca017f03a90c22": {
          "model_module": "@jupyter-widgets/controls",
          "model_module_version": "1.5.0",
          "model_name": "HTMLModel",
          "state": {
            "_dom_classes": [],
            "_model_module": "@jupyter-widgets/controls",
            "_model_module_version": "1.5.0",
            "_model_name": "HTMLModel",
            "_view_count": null,
            "_view_module": "@jupyter-widgets/controls",
            "_view_module_version": "1.5.0",
            "_view_name": "HTMLView",
            "description": "",
            "description_tooltip": null,
            "layout": "IPY_MODEL_578cb73cfeab4d809448f272cb09be68",
            "placeholder": "​",
            "style": "IPY_MODEL_c7fe4ba489dc4f5780a4ff5d1cb71d60",
            "value": "special_tokens_map.json: 100%"
          }
        },
        "61b0be5e3e5c401ab2d227b6daca1db0": {
          "model_module": "@jupyter-widgets/base",
          "model_module_version": "1.2.0",
          "model_name": "LayoutModel",
          "state": {
            "_model_module": "@jupyter-widgets/base",
            "_model_module_version": "1.2.0",
            "_model_name": "LayoutModel",
            "_view_count": null,
            "_view_module": "@jupyter-widgets/base",
            "_view_module_version": "1.2.0",
            "_view_name": "LayoutView",
            "align_content": null,
            "align_items": null,
            "align_self": null,
            "border": null,
            "bottom": null,
            "display": null,
            "flex": null,
            "flex_flow": null,
            "grid_area": null,
            "grid_auto_columns": null,
            "grid_auto_flow": null,
            "grid_auto_rows": null,
            "grid_column": null,
            "grid_gap": null,
            "grid_row": null,
            "grid_template_areas": null,
            "grid_template_columns": null,
            "grid_template_rows": null,
            "height": null,
            "justify_content": null,
            "justify_items": null,
            "left": null,
            "margin": null,
            "max_height": null,
            "max_width": null,
            "min_height": null,
            "min_width": null,
            "object_fit": null,
            "object_position": null,
            "order": null,
            "overflow": null,
            "overflow_x": null,
            "overflow_y": null,
            "padding": null,
            "right": null,
            "top": null,
            "visibility": null,
            "width": null
          }
        },
        "67f54aae427541fba07b371a6d38dcc2": {
          "model_module": "@jupyter-widgets/controls",
          "model_module_version": "1.5.0",
          "model_name": "HTMLModel",
          "state": {
            "_dom_classes": [],
            "_model_module": "@jupyter-widgets/controls",
            "_model_module_version": "1.5.0",
            "_model_name": "HTMLModel",
            "_view_count": null,
            "_view_module": "@jupyter-widgets/controls",
            "_view_module_version": "1.5.0",
            "_view_name": "HTMLView",
            "description": "",
            "description_tooltip": null,
            "layout": "IPY_MODEL_af7280c55fac407abd1cbce812049a73",
            "placeholder": "​",
            "style": "IPY_MODEL_1bedda67264146e7b86e2294f4688439",
            "value": " 493k/493k [00:00&lt;00:00, 8.42MB/s]"
          }
        },
        "6b8abb25e2004983af128448727d472b": {
          "model_module": "@jupyter-widgets/base",
          "model_module_version": "1.2.0",
          "model_name": "LayoutModel",
          "state": {
            "_model_module": "@jupyter-widgets/base",
            "_model_module_version": "1.2.0",
            "_model_name": "LayoutModel",
            "_view_count": null,
            "_view_module": "@jupyter-widgets/base",
            "_view_module_version": "1.2.0",
            "_view_name": "LayoutView",
            "align_content": null,
            "align_items": null,
            "align_self": null,
            "border": null,
            "bottom": null,
            "display": null,
            "flex": null,
            "flex_flow": null,
            "grid_area": null,
            "grid_auto_columns": null,
            "grid_auto_flow": null,
            "grid_auto_rows": null,
            "grid_column": null,
            "grid_gap": null,
            "grid_row": null,
            "grid_template_areas": null,
            "grid_template_columns": null,
            "grid_template_rows": null,
            "height": null,
            "justify_content": null,
            "justify_items": null,
            "left": null,
            "margin": null,
            "max_height": null,
            "max_width": null,
            "min_height": null,
            "min_width": null,
            "object_fit": null,
            "object_position": null,
            "order": null,
            "overflow": null,
            "overflow_x": null,
            "overflow_y": null,
            "padding": null,
            "right": null,
            "top": null,
            "visibility": null,
            "width": null
          }
        },
        "756e5a6be3dd4a25b698c348dc8d1d11": {
          "model_module": "@jupyter-widgets/controls",
          "model_module_version": "1.5.0",
          "model_name": "HTMLModel",
          "state": {
            "_dom_classes": [],
            "_model_module": "@jupyter-widgets/controls",
            "_model_module_version": "1.5.0",
            "_model_name": "HTMLModel",
            "_view_count": null,
            "_view_module": "@jupyter-widgets/controls",
            "_view_module_version": "1.5.0",
            "_view_name": "HTMLView",
            "description": "",
            "description_tooltip": null,
            "layout": "IPY_MODEL_a2de982c27294e9a8c7413d66153af5b",
            "placeholder": "​",
            "style": "IPY_MODEL_2e58ccea372541e9a524b526d662f590",
            "value": "Batches:   1%"
          }
        },
        "7611b1c3ffad489cb32cd203159a7781": {
          "model_module": "@jupyter-widgets/base",
          "model_module_version": "1.2.0",
          "model_name": "LayoutModel",
          "state": {
            "_model_module": "@jupyter-widgets/base",
            "_model_module_version": "1.2.0",
            "_model_name": "LayoutModel",
            "_view_count": null,
            "_view_module": "@jupyter-widgets/base",
            "_view_module_version": "1.2.0",
            "_view_name": "LayoutView",
            "align_content": null,
            "align_items": null,
            "align_self": null,
            "border": null,
            "bottom": null,
            "display": null,
            "flex": null,
            "flex_flow": null,
            "grid_area": null,
            "grid_auto_columns": null,
            "grid_auto_flow": null,
            "grid_auto_rows": null,
            "grid_column": null,
            "grid_gap": null,
            "grid_row": null,
            "grid_template_areas": null,
            "grid_template_columns": null,
            "grid_template_rows": null,
            "height": null,
            "justify_content": null,
            "justify_items": null,
            "left": null,
            "margin": null,
            "max_height": null,
            "max_width": null,
            "min_height": null,
            "min_width": null,
            "object_fit": null,
            "object_position": null,
            "order": null,
            "overflow": null,
            "overflow_x": null,
            "overflow_y": null,
            "padding": null,
            "right": null,
            "top": null,
            "visibility": null,
            "width": null
          }
        },
        "77e14490380e498a94035485e63652e9": {
          "model_module": "@jupyter-widgets/controls",
          "model_module_version": "1.5.0",
          "model_name": "HTMLModel",
          "state": {
            "_dom_classes": [],
            "_model_module": "@jupyter-widgets/controls",
            "_model_module_version": "1.5.0",
            "_model_name": "HTMLModel",
            "_view_count": null,
            "_view_module": "@jupyter-widgets/controls",
            "_view_module_version": "1.5.0",
            "_view_name": "HTMLView",
            "description": "",
            "description_tooltip": null,
            "layout": "IPY_MODEL_56d2dca604fe456887674490aa913359",
            "placeholder": "​",
            "style": "IPY_MODEL_b008e31bd2034d1cb048e9bbdbbfaed9",
            "value": "tokenizer.model: 100%"
          }
        },
        "7d9043ed9a2841829de515d1bebfcb99": {
          "model_module": "@jupyter-widgets/controls",
          "model_module_version": "1.5.0",
          "model_name": "FloatProgressModel",
          "state": {
            "_dom_classes": [],
            "_model_module": "@jupyter-widgets/controls",
            "_model_module_version": "1.5.0",
            "_model_name": "FloatProgressModel",
            "_view_count": null,
            "_view_module": "@jupyter-widgets/controls",
            "_view_module_version": "1.5.0",
            "_view_name": "ProgressView",
            "bar_style": "",
            "description": "",
            "description_tooltip": null,
            "layout": "IPY_MODEL_7611b1c3ffad489cb32cd203159a7781",
            "max": 477,
            "min": 0,
            "orientation": "horizontal",
            "style": "IPY_MODEL_f729063e2b7b487bbfb835cbd41c3d49",
            "value": 3
          }
        },
        "7f70df7d09f9400f82ca1d45860fdca4": {
          "model_module": "@jupyter-widgets/controls",
          "model_module_version": "1.5.0",
          "model_name": "HTMLModel",
          "state": {
            "_dom_classes": [],
            "_model_module": "@jupyter-widgets/controls",
            "_model_module_version": "1.5.0",
            "_model_name": "HTMLModel",
            "_view_count": null,
            "_view_module": "@jupyter-widgets/controls",
            "_view_module_version": "1.5.0",
            "_view_name": "HTMLView",
            "description": "",
            "description_tooltip": null,
            "layout": "IPY_MODEL_fcfb1aab55e54222a42871baad723d1b",
            "placeholder": "​",
            "style": "IPY_MODEL_34a314377d2f453d92a4fe6759db2eec",
            "value": "tokenizer.json: 100%"
          }
        },
        "8296568cfee8440cbe473220039adffc": {
          "model_module": "@jupyter-widgets/base",
          "model_module_version": "1.2.0",
          "model_name": "LayoutModel",
          "state": {
            "_model_module": "@jupyter-widgets/base",
            "_model_module_version": "1.2.0",
            "_model_name": "LayoutModel",
            "_view_count": null,
            "_view_module": "@jupyter-widgets/base",
            "_view_module_version": "1.2.0",
            "_view_name": "LayoutView",
            "align_content": null,
            "align_items": null,
            "align_self": null,
            "border": null,
            "bottom": null,
            "display": null,
            "flex": null,
            "flex_flow": null,
            "grid_area": null,
            "grid_auto_columns": null,
            "grid_auto_flow": null,
            "grid_auto_rows": null,
            "grid_column": null,
            "grid_gap": null,
            "grid_row": null,
            "grid_template_areas": null,
            "grid_template_columns": null,
            "grid_template_rows": null,
            "height": null,
            "justify_content": null,
            "justify_items": null,
            "left": null,
            "margin": null,
            "max_height": null,
            "max_width": null,
            "min_height": null,
            "min_width": null,
            "object_fit": null,
            "object_position": null,
            "order": null,
            "overflow": null,
            "overflow_x": null,
            "overflow_y": null,
            "padding": null,
            "right": null,
            "top": null,
            "visibility": null,
            "width": null
          }
        },
        "878a3b3730524ff68b9db9e82e6cd239": {
          "model_module": "@jupyter-widgets/controls",
          "model_module_version": "1.5.0",
          "model_name": "HTMLModel",
          "state": {
            "_dom_classes": [],
            "_model_module": "@jupyter-widgets/controls",
            "_model_module_version": "1.5.0",
            "_model_name": "HTMLModel",
            "_view_count": null,
            "_view_module": "@jupyter-widgets/controls",
            "_view_module_version": "1.5.0",
            "_view_name": "HTMLView",
            "description": "",
            "description_tooltip": null,
            "layout": "IPY_MODEL_58a4ea70766b459995e65d5a8c1070c1",
            "placeholder": "​",
            "style": "IPY_MODEL_113146f2833b4f57ae39b1c1dcaa3808",
            "value": " 967/967 [00:00&lt;00:00, 22.3kB/s]"
          }
        },
        "89a203f5d6a649dfb222de24639090f3": {
          "model_module": "@jupyter-widgets/controls",
          "model_module_version": "1.5.0",
          "model_name": "ProgressStyleModel",
          "state": {
            "_model_module": "@jupyter-widgets/controls",
            "_model_module_version": "1.5.0",
            "_model_name": "ProgressStyleModel",
            "_view_count": null,
            "_view_module": "@jupyter-widgets/base",
            "_view_module_version": "1.2.0",
            "_view_name": "StyleView",
            "bar_color": null,
            "description_width": ""
          }
        },
        "8e50183df5554f7e8ef9ac8aa547db6f": {
          "model_module": "@jupyter-widgets/controls",
          "model_module_version": "1.5.0",
          "model_name": "FloatProgressModel",
          "state": {
            "_dom_classes": [],
            "_model_module": "@jupyter-widgets/controls",
            "_model_module_version": "1.5.0",
            "_model_name": "FloatProgressModel",
            "_view_count": null,
            "_view_module": "@jupyter-widgets/controls",
            "_view_module_version": "1.5.0",
            "_view_name": "ProgressView",
            "bar_style": "success",
            "description": "",
            "description_tooltip": null,
            "layout": "IPY_MODEL_e4b2fced6265449fb913c3ee98c569c0",
            "max": 72,
            "min": 0,
            "orientation": "horizontal",
            "style": "IPY_MODEL_89a203f5d6a649dfb222de24639090f3",
            "value": 72
          }
        },
        "90981b50723a4c38b22f8ef3067b09b5": {
          "model_module": "@jupyter-widgets/controls",
          "model_module_version": "1.5.0",
          "model_name": "ProgressStyleModel",
          "state": {
            "_model_module": "@jupyter-widgets/controls",
            "_model_module_version": "1.5.0",
            "_model_name": "ProgressStyleModel",
            "_view_count": null,
            "_view_module": "@jupyter-widgets/base",
            "_view_module_version": "1.2.0",
            "_view_name": "StyleView",
            "bar_color": null,
            "description_width": ""
          }
        },
        "90d64aef789e42558034f96c415e640e": {
          "model_module": "@jupyter-widgets/base",
          "model_module_version": "1.2.0",
          "model_name": "LayoutModel",
          "state": {
            "_model_module": "@jupyter-widgets/base",
            "_model_module_version": "1.2.0",
            "_model_name": "LayoutModel",
            "_view_count": null,
            "_view_module": "@jupyter-widgets/base",
            "_view_module_version": "1.2.0",
            "_view_name": "LayoutView",
            "align_content": null,
            "align_items": null,
            "align_self": null,
            "border": null,
            "bottom": null,
            "display": null,
            "flex": null,
            "flex_flow": null,
            "grid_area": null,
            "grid_auto_columns": null,
            "grid_auto_flow": null,
            "grid_auto_rows": null,
            "grid_column": null,
            "grid_gap": null,
            "grid_row": null,
            "grid_template_areas": null,
            "grid_template_columns": null,
            "grid_template_rows": null,
            "height": null,
            "justify_content": null,
            "justify_items": null,
            "left": null,
            "margin": null,
            "max_height": null,
            "max_width": null,
            "min_height": null,
            "min_width": null,
            "object_fit": null,
            "object_position": null,
            "order": null,
            "overflow": null,
            "overflow_x": null,
            "overflow_y": null,
            "padding": null,
            "right": null,
            "top": null,
            "visibility": null,
            "width": null
          }
        },
        "9157174f3b4a4e2a876610f8f1d4ef32": {
          "model_module": "@jupyter-widgets/controls",
          "model_module_version": "1.5.0",
          "model_name": "DescriptionStyleModel",
          "state": {
            "_model_module": "@jupyter-widgets/controls",
            "_model_module_version": "1.5.0",
            "_model_name": "DescriptionStyleModel",
            "_view_count": null,
            "_view_module": "@jupyter-widgets/base",
            "_view_module_version": "1.2.0",
            "_view_name": "StyleView",
            "description_width": ""
          }
        },
        "94428e790c824011b75f461f6be4243a": {
          "model_module": "@jupyter-widgets/base",
          "model_module_version": "1.2.0",
          "model_name": "LayoutModel",
          "state": {
            "_model_module": "@jupyter-widgets/base",
            "_model_module_version": "1.2.0",
            "_model_name": "LayoutModel",
            "_view_count": null,
            "_view_module": "@jupyter-widgets/base",
            "_view_module_version": "1.2.0",
            "_view_name": "LayoutView",
            "align_content": null,
            "align_items": null,
            "align_self": null,
            "border": null,
            "bottom": null,
            "display": null,
            "flex": null,
            "flex_flow": null,
            "grid_area": null,
            "grid_auto_columns": null,
            "grid_auto_flow": null,
            "grid_auto_rows": null,
            "grid_column": null,
            "grid_gap": null,
            "grid_row": null,
            "grid_template_areas": null,
            "grid_template_columns": null,
            "grid_template_rows": null,
            "height": null,
            "justify_content": null,
            "justify_items": null,
            "left": null,
            "margin": null,
            "max_height": null,
            "max_width": null,
            "min_height": null,
            "min_width": null,
            "object_fit": null,
            "object_position": null,
            "order": null,
            "overflow": null,
            "overflow_x": null,
            "overflow_y": null,
            "padding": null,
            "right": null,
            "top": null,
            "visibility": null,
            "width": null
          }
        },
        "a110aeccef0a4bd795cd1e3e36255218": {
          "model_module": "@jupyter-widgets/controls",
          "model_module_version": "1.5.0",
          "model_name": "FloatProgressModel",
          "state": {
            "_dom_classes": [],
            "_model_module": "@jupyter-widgets/controls",
            "_model_module_version": "1.5.0",
            "_model_name": "FloatProgressModel",
            "_view_count": null,
            "_view_module": "@jupyter-widgets/controls",
            "_view_module_version": "1.5.0",
            "_view_name": "ProgressView",
            "bar_style": "success",
            "description": "",
            "description_tooltip": null,
            "layout": "IPY_MODEL_94428e790c824011b75f461f6be4243a",
            "max": 493443,
            "min": 0,
            "orientation": "horizontal",
            "style": "IPY_MODEL_90981b50723a4c38b22f8ef3067b09b5",
            "value": 493443
          }
        },
        "a2de982c27294e9a8c7413d66153af5b": {
          "model_module": "@jupyter-widgets/base",
          "model_module_version": "1.2.0",
          "model_name": "LayoutModel",
          "state": {
            "_model_module": "@jupyter-widgets/base",
            "_model_module_version": "1.2.0",
            "_model_name": "LayoutModel",
            "_view_count": null,
            "_view_module": "@jupyter-widgets/base",
            "_view_module_version": "1.2.0",
            "_view_name": "LayoutView",
            "align_content": null,
            "align_items": null,
            "align_self": null,
            "border": null,
            "bottom": null,
            "display": null,
            "flex": null,
            "flex_flow": null,
            "grid_area": null,
            "grid_auto_columns": null,
            "grid_auto_flow": null,
            "grid_auto_rows": null,
            "grid_column": null,
            "grid_gap": null,
            "grid_row": null,
            "grid_template_areas": null,
            "grid_template_columns": null,
            "grid_template_rows": null,
            "height": null,
            "justify_content": null,
            "justify_items": null,
            "left": null,
            "margin": null,
            "max_height": null,
            "max_width": null,
            "min_height": null,
            "min_width": null,
            "object_fit": null,
            "object_position": null,
            "order": null,
            "overflow": null,
            "overflow_x": null,
            "overflow_y": null,
            "padding": null,
            "right": null,
            "top": null,
            "visibility": null,
            "width": null
          }
        },
        "aebaa9129ceb4749a2649c39fb13d505": {
          "model_module": "@jupyter-widgets/controls",
          "model_module_version": "1.5.0",
          "model_name": "HBoxModel",
          "state": {
            "_dom_classes": [],
            "_model_module": "@jupyter-widgets/controls",
            "_model_module_version": "1.5.0",
            "_model_name": "HBoxModel",
            "_view_count": null,
            "_view_module": "@jupyter-widgets/controls",
            "_view_module_version": "1.5.0",
            "_view_name": "HBoxView",
            "box_style": "",
            "children": [
              "IPY_MODEL_ff92a7e65d734b9f97764745a93b17d2",
              "IPY_MODEL_1a47c228332a4bf4871db8710e434743",
              "IPY_MODEL_878a3b3730524ff68b9db9e82e6cd239"
            ],
            "layout": "IPY_MODEL_32bdbe87c60749a8912e592bdecb1e17"
          }
        },
        "af7280c55fac407abd1cbce812049a73": {
          "model_module": "@jupyter-widgets/base",
          "model_module_version": "1.2.0",
          "model_name": "LayoutModel",
          "state": {
            "_model_module": "@jupyter-widgets/base",
            "_model_module_version": "1.2.0",
            "_model_name": "LayoutModel",
            "_view_count": null,
            "_view_module": "@jupyter-widgets/base",
            "_view_module_version": "1.2.0",
            "_view_name": "LayoutView",
            "align_content": null,
            "align_items": null,
            "align_self": null,
            "border": null,
            "bottom": null,
            "display": null,
            "flex": null,
            "flex_flow": null,
            "grid_area": null,
            "grid_auto_columns": null,
            "grid_auto_flow": null,
            "grid_auto_rows": null,
            "grid_column": null,
            "grid_gap": null,
            "grid_row": null,
            "grid_template_areas": null,
            "grid_template_columns": null,
            "grid_template_rows": null,
            "height": null,
            "justify_content": null,
            "justify_items": null,
            "left": null,
            "margin": null,
            "max_height": null,
            "max_width": null,
            "min_height": null,
            "min_width": null,
            "object_fit": null,
            "object_position": null,
            "order": null,
            "overflow": null,
            "overflow_x": null,
            "overflow_y": null,
            "padding": null,
            "right": null,
            "top": null,
            "visibility": null,
            "width": null
          }
        },
        "b008e31bd2034d1cb048e9bbdbbfaed9": {
          "model_module": "@jupyter-widgets/controls",
          "model_module_version": "1.5.0",
          "model_name": "DescriptionStyleModel",
          "state": {
            "_model_module": "@jupyter-widgets/controls",
            "_model_module_version": "1.5.0",
            "_model_name": "DescriptionStyleModel",
            "_view_count": null,
            "_view_module": "@jupyter-widgets/base",
            "_view_module_version": "1.2.0",
            "_view_name": "StyleView",
            "description_width": ""
          }
        },
        "b1f9b537268548589b56f861ad6aecc1": {
          "model_module": "@jupyter-widgets/controls",
          "model_module_version": "1.5.0",
          "model_name": "ProgressStyleModel",
          "state": {
            "_model_module": "@jupyter-widgets/controls",
            "_model_module_version": "1.5.0",
            "_model_name": "ProgressStyleModel",
            "_view_count": null,
            "_view_module": "@jupyter-widgets/base",
            "_view_module_version": "1.2.0",
            "_view_name": "StyleView",
            "bar_color": null,
            "description_width": ""
          }
        },
        "bcdea9d710f848daa1f76c99a37bbc0e": {
          "model_module": "@jupyter-widgets/controls",
          "model_module_version": "1.5.0",
          "model_name": "HTMLModel",
          "state": {
            "_dom_classes": [],
            "_model_module": "@jupyter-widgets/controls",
            "_model_module_version": "1.5.0",
            "_model_name": "HTMLModel",
            "_view_count": null,
            "_view_module": "@jupyter-widgets/controls",
            "_view_module_version": "1.5.0",
            "_view_name": "HTMLView",
            "description": "",
            "description_tooltip": null,
            "layout": "IPY_MODEL_8296568cfee8440cbe473220039adffc",
            "placeholder": "​",
            "style": "IPY_MODEL_e3a242edbed3456c9e57bc8f3631ee63",
            "value": " 1.80M/1.80M [00:00&lt;00:00, 10.2MB/s]"
          }
        },
        "c7fe4ba489dc4f5780a4ff5d1cb71d60": {
          "model_module": "@jupyter-widgets/controls",
          "model_module_version": "1.5.0",
          "model_name": "DescriptionStyleModel",
          "state": {
            "_model_module": "@jupyter-widgets/controls",
            "_model_module_version": "1.5.0",
            "_model_name": "DescriptionStyleModel",
            "_view_count": null,
            "_view_module": "@jupyter-widgets/base",
            "_view_module_version": "1.2.0",
            "_view_name": "StyleView",
            "description_width": ""
          }
        },
        "cea646ee0eba4188bd029b0cc3552abc": {
          "model_module": "@jupyter-widgets/controls",
          "model_module_version": "1.5.0",
          "model_name": "HBoxModel",
          "state": {
            "_dom_classes": [],
            "_model_module": "@jupyter-widgets/controls",
            "_model_module_version": "1.5.0",
            "_model_name": "HBoxModel",
            "_view_count": null,
            "_view_module": "@jupyter-widgets/controls",
            "_view_module_version": "1.5.0",
            "_view_name": "HBoxView",
            "box_style": "",
            "children": [
              "IPY_MODEL_756e5a6be3dd4a25b698c348dc8d1d11",
              "IPY_MODEL_7d9043ed9a2841829de515d1bebfcb99",
              "IPY_MODEL_eb61a67068ec49ffa5208c15561c1719"
            ],
            "layout": "IPY_MODEL_087efb6bb68741338006aac890a41344"
          }
        },
        "d2687eade0634e849242792169ab95ff": {
          "model_module": "@jupyter-widgets/base",
          "model_module_version": "1.2.0",
          "model_name": "LayoutModel",
          "state": {
            "_model_module": "@jupyter-widgets/base",
            "_model_module_version": "1.2.0",
            "_model_name": "LayoutModel",
            "_view_count": null,
            "_view_module": "@jupyter-widgets/base",
            "_view_module_version": "1.2.0",
            "_view_name": "LayoutView",
            "align_content": null,
            "align_items": null,
            "align_self": null,
            "border": null,
            "bottom": null,
            "display": null,
            "flex": null,
            "flex_flow": null,
            "grid_area": null,
            "grid_auto_columns": null,
            "grid_auto_flow": null,
            "grid_auto_rows": null,
            "grid_column": null,
            "grid_gap": null,
            "grid_row": null,
            "grid_template_areas": null,
            "grid_template_columns": null,
            "grid_template_rows": null,
            "height": null,
            "justify_content": null,
            "justify_items": null,
            "left": null,
            "margin": null,
            "max_height": null,
            "max_width": null,
            "min_height": null,
            "min_width": null,
            "object_fit": null,
            "object_position": null,
            "order": null,
            "overflow": null,
            "overflow_x": null,
            "overflow_y": null,
            "padding": null,
            "right": null,
            "top": null,
            "visibility": null,
            "width": null
          }
        },
        "d2be809190ae4f28a032775227da2bca": {
          "model_module": "@jupyter-widgets/base",
          "model_module_version": "1.2.0",
          "model_name": "LayoutModel",
          "state": {
            "_model_module": "@jupyter-widgets/base",
            "_model_module_version": "1.2.0",
            "_model_name": "LayoutModel",
            "_view_count": null,
            "_view_module": "@jupyter-widgets/base",
            "_view_module_version": "1.2.0",
            "_view_name": "LayoutView",
            "align_content": null,
            "align_items": null,
            "align_self": null,
            "border": null,
            "bottom": null,
            "display": null,
            "flex": null,
            "flex_flow": null,
            "grid_area": null,
            "grid_auto_columns": null,
            "grid_auto_flow": null,
            "grid_auto_rows": null,
            "grid_column": null,
            "grid_gap": null,
            "grid_row": null,
            "grid_template_areas": null,
            "grid_template_columns": null,
            "grid_template_rows": null,
            "height": null,
            "justify_content": null,
            "justify_items": null,
            "left": null,
            "margin": null,
            "max_height": null,
            "max_width": null,
            "min_height": null,
            "min_width": null,
            "object_fit": null,
            "object_position": null,
            "order": null,
            "overflow": null,
            "overflow_x": null,
            "overflow_y": null,
            "padding": null,
            "right": null,
            "top": null,
            "visibility": null,
            "width": null
          }
        },
        "e3a242edbed3456c9e57bc8f3631ee63": {
          "model_module": "@jupyter-widgets/controls",
          "model_module_version": "1.5.0",
          "model_name": "DescriptionStyleModel",
          "state": {
            "_model_module": "@jupyter-widgets/controls",
            "_model_module_version": "1.5.0",
            "_model_name": "DescriptionStyleModel",
            "_view_count": null,
            "_view_module": "@jupyter-widgets/base",
            "_view_module_version": "1.2.0",
            "_view_name": "StyleView",
            "description_width": ""
          }
        },
        "e4b2fced6265449fb913c3ee98c569c0": {
          "model_module": "@jupyter-widgets/base",
          "model_module_version": "1.2.0",
          "model_name": "LayoutModel",
          "state": {
            "_model_module": "@jupyter-widgets/base",
            "_model_module_version": "1.2.0",
            "_model_name": "LayoutModel",
            "_view_count": null,
            "_view_module": "@jupyter-widgets/base",
            "_view_module_version": "1.2.0",
            "_view_name": "LayoutView",
            "align_content": null,
            "align_items": null,
            "align_self": null,
            "border": null,
            "bottom": null,
            "display": null,
            "flex": null,
            "flex_flow": null,
            "grid_area": null,
            "grid_auto_columns": null,
            "grid_auto_flow": null,
            "grid_auto_rows": null,
            "grid_column": null,
            "grid_gap": null,
            "grid_row": null,
            "grid_template_areas": null,
            "grid_template_columns": null,
            "grid_template_rows": null,
            "height": null,
            "justify_content": null,
            "justify_items": null,
            "left": null,
            "margin": null,
            "max_height": null,
            "max_width": null,
            "min_height": null,
            "min_width": null,
            "object_fit": null,
            "object_position": null,
            "order": null,
            "overflow": null,
            "overflow_x": null,
            "overflow_y": null,
            "padding": null,
            "right": null,
            "top": null,
            "visibility": null,
            "width": null
          }
        },
        "eb61a67068ec49ffa5208c15561c1719": {
          "model_module": "@jupyter-widgets/controls",
          "model_module_version": "1.5.0",
          "model_name": "HTMLModel",
          "state": {
            "_dom_classes": [],
            "_model_module": "@jupyter-widgets/controls",
            "_model_module_version": "1.5.0",
            "_model_name": "HTMLModel",
            "_view_count": null,
            "_view_module": "@jupyter-widgets/controls",
            "_view_module_version": "1.5.0",
            "_view_name": "HTMLView",
            "description": "",
            "description_tooltip": null,
            "layout": "IPY_MODEL_61b0be5e3e5c401ab2d227b6daca1db0",
            "placeholder": "​",
            "style": "IPY_MODEL_2f7a82dad09d40cda7ca9a32be93c910",
            "value": " 3/477 [11:30&lt;30:17:00, 230.00s/it]"
          }
        },
        "f3ccfcb8a5cc4d59ac4a4e47638ef867": {
          "model_module": "@jupyter-widgets/base",
          "model_module_version": "1.2.0",
          "model_name": "LayoutModel",
          "state": {
            "_model_module": "@jupyter-widgets/base",
            "_model_module_version": "1.2.0",
            "_model_name": "LayoutModel",
            "_view_count": null,
            "_view_module": "@jupyter-widgets/base",
            "_view_module_version": "1.2.0",
            "_view_name": "LayoutView",
            "align_content": null,
            "align_items": null,
            "align_self": null,
            "border": null,
            "bottom": null,
            "display": null,
            "flex": null,
            "flex_flow": null,
            "grid_area": null,
            "grid_auto_columns": null,
            "grid_auto_flow": null,
            "grid_auto_rows": null,
            "grid_column": null,
            "grid_gap": null,
            "grid_row": null,
            "grid_template_areas": null,
            "grid_template_columns": null,
            "grid_template_rows": null,
            "height": null,
            "justify_content": null,
            "justify_items": null,
            "left": null,
            "margin": null,
            "max_height": null,
            "max_width": null,
            "min_height": null,
            "min_width": null,
            "object_fit": null,
            "object_position": null,
            "order": null,
            "overflow": null,
            "overflow_x": null,
            "overflow_y": null,
            "padding": null,
            "right": null,
            "top": null,
            "visibility": null,
            "width": null
          }
        },
        "f729063e2b7b487bbfb835cbd41c3d49": {
          "model_module": "@jupyter-widgets/controls",
          "model_module_version": "1.5.0",
          "model_name": "ProgressStyleModel",
          "state": {
            "_model_module": "@jupyter-widgets/controls",
            "_model_module_version": "1.5.0",
            "_model_name": "ProgressStyleModel",
            "_view_count": null,
            "_view_module": "@jupyter-widgets/base",
            "_view_module_version": "1.2.0",
            "_view_name": "StyleView",
            "bar_color": null,
            "description_width": ""
          }
        },
        "fa3de74c2c444a1dadb6cb21ee4d52b5": {
          "model_module": "@jupyter-widgets/controls",
          "model_module_version": "1.5.0",
          "model_name": "DescriptionStyleModel",
          "state": {
            "_model_module": "@jupyter-widgets/controls",
            "_model_module_version": "1.5.0",
            "_model_name": "DescriptionStyleModel",
            "_view_count": null,
            "_view_module": "@jupyter-widgets/base",
            "_view_module_version": "1.2.0",
            "_view_name": "StyleView",
            "description_width": ""
          }
        },
        "fcfb1aab55e54222a42871baad723d1b": {
          "model_module": "@jupyter-widgets/base",
          "model_module_version": "1.2.0",
          "model_name": "LayoutModel",
          "state": {
            "_model_module": "@jupyter-widgets/base",
            "_model_module_version": "1.2.0",
            "_model_name": "LayoutModel",
            "_view_count": null,
            "_view_module": "@jupyter-widgets/base",
            "_view_module_version": "1.2.0",
            "_view_name": "LayoutView",
            "align_content": null,
            "align_items": null,
            "align_self": null,
            "border": null,
            "bottom": null,
            "display": null,
            "flex": null,
            "flex_flow": null,
            "grid_area": null,
            "grid_auto_columns": null,
            "grid_auto_flow": null,
            "grid_auto_rows": null,
            "grid_column": null,
            "grid_gap": null,
            "grid_row": null,
            "grid_template_areas": null,
            "grid_template_columns": null,
            "grid_template_rows": null,
            "height": null,
            "justify_content": null,
            "justify_items": null,
            "left": null,
            "margin": null,
            "max_height": null,
            "max_width": null,
            "min_height": null,
            "min_width": null,
            "object_fit": null,
            "object_position": null,
            "order": null,
            "overflow": null,
            "overflow_x": null,
            "overflow_y": null,
            "padding": null,
            "right": null,
            "top": null,
            "visibility": null,
            "width": null
          }
        },
        "ff92a7e65d734b9f97764745a93b17d2": {
          "model_module": "@jupyter-widgets/controls",
          "model_module_version": "1.5.0",
          "model_name": "HTMLModel",
          "state": {
            "_dom_classes": [],
            "_model_module": "@jupyter-widgets/controls",
            "_model_module_version": "1.5.0",
            "_model_name": "HTMLModel",
            "_view_count": null,
            "_view_module": "@jupyter-widgets/controls",
            "_view_module_version": "1.5.0",
            "_view_name": "HTMLView",
            "description": "",
            "description_tooltip": null,
            "layout": "IPY_MODEL_6b8abb25e2004983af128448727d472b",
            "placeholder": "​",
            "style": "IPY_MODEL_9157174f3b4a4e2a876610f8f1d4ef32",
            "value": "tokenizer_config.json: 100%"
          }
        }
      }
    }
  },
  "nbformat": 4,
  "nbformat_minor": 0
}
